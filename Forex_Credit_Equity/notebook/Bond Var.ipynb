{
 "metadata": {
  "name": ""
 },
 "nbformat": 3,
 "nbformat_minor": 0,
 "worksheets": [
  {
   "cells": [
    {
     "cell_type": "code",
     "collapsed": false,
     "input": [
      "from matplotlib import rc\n",
      "rc('font',**{'family':'sans-serif','sans-serif':['Helvetica']})\n",
      "## for Palatino and other serif fonts use:\n",
      "#rc('font',**{'family':'serif','serif':['Palatino']})\n",
      "rc('text', usetex=True)\n",
      "rcParams['text.latex.unicode']=True"
     ],
     "language": "python",
     "metadata": {},
     "outputs": []
    },
    {
     "cell_type": "code",
     "collapsed": false,
     "input": [
      "import numpy as np\n",
      "import matplotlib.pyplot as plt\n",
      "\n",
      "def plotFixFlow(ax,starty,t,value,color,label):\n",
      "    ax.arrow(t,starty,0,value,color=color,head_width=0.05, head_length=0.1,linewidth=0.4)\n",
      "    ax.annotate(label, xy=(t,starty),  \n",
      "                xycoords='data', size=20, xytext=(10, 35), textcoords='offset points'\n",
      "                )\n",
      "\n",
      "\n",
      "def plotVarFlow(ax,starty,t,value,color,label):\n",
      "    y = starty + np.arange(0,value+0.005,0.005)\n",
      "    x = [t+np.sin(v/value*np.pi*10)*0.02 for v in y]\n",
      "    ax.plot(x,y,color='black',linewidth=0.4)\n",
      "    ax.arrow(t,starty+value+0.02,0,0.0001,color=color,head_width=0.05, head_length=0.1,linewidth=2.5)\n",
      "    ax.annotate(label, xy=(t,starty),  \n",
      "                xycoords='data', size=20, xytext=(-10, -25), textcoords='offset points'\n",
      "                )\n",
      "    \n",
      "def plotdelta(ax,starty,t1,t2,color,label,coeff=1):\n",
      "    x = np.arange(t1,t2+0.02,0.02)\n",
      "    y = starty-(x-t1)*(x-t2)/(t1-t2)/(t1-t2)*0.3*coeff\n",
      "    ax.plot(x,y,color=color,linewidth=0.4,linestyle='--')\n",
      "    ax.annotate(label, xy=((t1+t2)/2,starty),  \n",
      "                xycoords='data', size=20, xytext=(-10, coeff*15), textcoords='offset points'\n",
      "                )\n",
      "\n",
      "\n",
      "fig, ax = plt.subplots(figsize=(15,3))\n",
      "\n",
      "ax.set_xlim([-0.5,3])\n",
      "ax.set_ylim([0.7,2])\n",
      "\n",
      "plt.axis('off')\n",
      "\n",
      "ax.arrow(0,0.9,0,0.2,color='black',linewidth=0.1)\n",
      "ax.annotate('$T_0=t$', xy=(0,1),  \n",
      "                xycoords='data', size=20, xytext=(-30, -25), textcoords='offset points'\n",
      "                )\n",
      "\n",
      "ax.arrow(2,0.9,0,0.2,color='black',linewidth=0.1)\n",
      "ax.annotate('$T_n=T$', xy=(2,1),  \n",
      "                xycoords='data', size=20, xytext=(+10, -25), textcoords='offset points'\n",
      "                )\n",
      "\n",
      "ax.arrow(-0.5,1,3,0,color='black',head_width=0.2, head_length=0.1,linewidth=0.1)\n",
      "\n",
      "plotdelta(ax,1.3,1.3,1.9,'black','',0)\n",
      "\n",
      "plotVarFlow(ax,1,0.4,0.4,'black','$T_1$')\n",
      "plotVarFlow(ax,1,0.8,0.4,'black','$T_2$')\n",
      "plotVarFlow(ax,1,1.2,0.4,'black','$T_3$')\n",
      "plotFixFlow(ax,1,2,0.6,'black','')\n",
      "plotVarFlow(ax,1,2.1,0.4,'black','')\n",
      "\n",
      "\n",
      "plotdelta(ax,1,0,0.4,'black','$\\delta_1$')\n",
      "plotdelta(ax,1,0.4,0.8,'black','$\\delta_2$') \n",
      "plotdelta(ax,1,0.8,1.2,'black','$\\delta_3$')\n",
      "\n",
      "ax.annotate('$\\\\delta_1 R(T_0,T_1)$', xy=(0.4,1.2),  \n",
      "                xycoords='data', size=17, xytext=(-30, 50), textcoords='offset points'\n",
      "                )\n",
      "\n",
      "ax.annotate('$\\\\delta_2 R(T_1,T_2)$', xy=(0.8,1.2),  \n",
      "                xycoords='data', size=17, xytext=(-30, 50), textcoords='offset points'\n",
      "                )\n",
      "\n",
      "ax.annotate('$\\\\delta_3 R(T_2,T_3)$', xy=(1.2,1.2),  \n",
      "                xycoords='data', size=17, xytext=(-30, 50), textcoords='offset points'\n",
      "                )\n",
      "\n",
      "ax.annotate('$1+\\\\delta_n R(T_{n-1},T_{n})$', xy=(2,1.2),  \n",
      "                xycoords='data', size=17, xytext=(10, 50), textcoords='offset points'\n",
      "                )\n",
      "\n",
      "\n",
      "plt.savefig('../figures/bond_variable.png', bbox_inches='tight')"
     ],
     "language": "python",
     "metadata": {},
     "outputs": [
      {
       "metadata": {},
       "output_type": "display_data",
       "png": "[encoded data removed]",
       "text": [
        "<matplotlib.figure.Figure at 0x57ce3d0>"
       ]
      }
     ],
     "prompt_number": 23
    }
   ],
   "metadata": {}
  }
 ]
}