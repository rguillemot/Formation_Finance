{
 "metadata": {
  "name": ""
 },
 "nbformat": 3,
 "nbformat_minor": 0,
 "worksheets": [
  {
   "cells": [
    {
     "cell_type": "code",
     "collapsed": false,
     "input": [
      "S=1.3889\n",
      "REUR=0.005\n",
      "RUSD=0.003\n",
      "delta=365/360\n",
      "m=0.001\n",
      "\n",
      "X=S*(1+delta*RUSD)/(1+delta*(REUR-m))\n",
      "X\n",
      "1/X"
     ],
     "language": "python",
     "metadata": {},
     "outputs": [
      {
       "metadata": {},
       "output_type": "pyout",
       "prompt_number": 1,
       "text": [
        "0.7207120807639721"
       ]
      }
     ],
     "prompt_number": 1
    },
    {
     "cell_type": "code",
     "collapsed": false,
     "input": [
      "NEUR1 = -100000000\n",
      "NUSD1 = 138800000\n",
      "\n",
      "def PNLUSDCas1(RUSD,REUR,m,S):\n",
      "    return NUSD1*exp(-RUSD)+NEUR1*exp(-(REUR-m))*S\n",
      "\n",
      "print 'PNL=%1.0f EUR'%(PNLUSDCas1(RUSD,REUR,m,S)/S)\n",
      "print 'PNL=%1.0f USD'%(PNLUSDCas1(RUSD,REUR,m,S))\n",
      "print 'Delta FX=%1.0f EUR'%((PNLUSDCas1(RUSD,REUR,m,S+0.0001)-PNLUSDCas1(RUSD,REUR,m,S))/0.0001)\n",
      "print 'Sensi taux EUR=%1.0f EUR'%((PNLUSDCas1(RUSD,REUR+0.0001,m,S)-PNLUSDCas1(RUSD,REUR,m,S))/S)\n",
      "print 'Sensi taux USD=%1.0f USD'%((PNLUSDCas1(RUSD+0.0001,REUR,m,S)-PNLUSDCas1(RUSD,REUR,m,S)))\n",
      "print 'Sensi basis EUR=%1.0f EUR'%((PNLUSDCas1(RUSD,REUR,m+0.0001,S)-PNLUSDCas1(RUSD,REUR,m,S))/S)\n",
      "print 'NEUR=%1.0f EUR'%(NEUR1/(1+delta*(REUR-m)))\n",
      "print 'NUSD=%1.0f EUR'%(NUSD1/(1+delta*RUSD))"
     ],
     "language": "python",
     "metadata": {},
     "outputs": [
      {
       "output_type": "stream",
       "stream": "stdout",
       "text": [
        "PNL=35045 EUR\n",
        "PNL=48674 USD\n",
        "Delta FX=-99600799 EUR\n",
        "Sensi taux EUR=9960 EUR\n",
        "Sensi taux USD=-13838 USD\n",
        "Sensi basis EUR=-9961 EUR\n",
        "NEUR=-99601594 EUR\n",
        "NUSD=138384845 EUR\n"
       ]
      }
     ],
     "prompt_number": 10
    },
    {
     "cell_type": "code",
     "collapsed": false,
     "input": [
      "NEUR2 = 72080000\n",
      "NUSD2 = -100000000\n",
      "\n",
      "def PNLUSDCas2(RUSD,REUR,m,S):\n",
      "    return NUSD2*exp(-RUSD)+NEUR2*exp(-(REUR-m))*S\n",
      "\n",
      "print 'PNL=%1.0f EUR'%(PNLUSDCas2(RUSD,REUR,m,S)/S)\n",
      "print 'PNL=%1.0f USD'%(PNLUSDCas2(RUSD,REUR,m,S))\n",
      "print 'Delta FX=%1.0f EUR'%((PNLUSDCas2(RUSD,REUR,m,S+0.0001)-PNLUSDCas2(RUSD,REUR,m,S))/0.0001)\n",
      "print 'Sensi taux EUR=%1.0f EUR'%((PNLUSDCas2(RUSD,REUR+0.0001,m,S)-PNLUSDCas2(RUSD,REUR,m,S))/S)\n",
      "print 'Sensi taux USD=%1.0f USD'%((PNLUSDCas2(RUSD+0.0001,REUR,m,S)-PNLUSDCas2(RUSD,REUR,m,S)))\n",
      "print 'Sensi basis EUR=%1.0f EUR'%((PNLUSDCas2(RUSD,REUR,m+0.0001,S)-PNLUSDCas2(RUSD,REUR,m,S))/S)\n",
      "print 'NEUR=%1.0f EUR'%(NEUR2/(1+delta*(REUR-m)))\n",
      "print 'NUSD=%1.0f EUR'%(NUSD1/(1+delta*RUSD))"
     ],
     "language": "python",
     "metadata": {},
     "outputs": [
      {
       "output_type": "stream",
       "stream": "stdout",
       "text": [
        "PNL=8506 EUR\n",
        "PNL=11815 USD\n",
        "Delta FX=71792256 EUR\n",
        "Sensi taux EUR=-7179 EUR\n",
        "Sensi taux USD=9970 USD\n",
        "Sensi basis EUR=7180 EUR\n",
        "NEUR=71792829 EUR\n",
        "NUSD=138384845 EUR\n"
       ]
      }
     ],
     "prompt_number": 8
    },
    {
     "cell_type": "code",
     "collapsed": false,
     "input": [
      "def PNLUSDTOTAL(RUSD,REUR,m,S):\n",
      "    return PNLUSDCas1(RUSD,REUR,m,S)+PNLUSDCas2(RUSD,REUR,m,S)"
     ],
     "language": "python",
     "metadata": {},
     "outputs": [],
     "prompt_number": 11
    },
    {
     "cell_type": "code",
     "collapsed": false,
     "input": [
      "latex = '\\\\begin{tabular}{|c|r|r|r|l|}\\n'\n",
      "latex += '\\\\hline\\n'\n",
      "latex += '&\\\\textbf{Cas 1}&\\\\textbf{Cas 2}&\\\\textbf{TOTAL}& \\\\\\\\\\n'\n",
      "latex += '\\\\hline\\n'\n",
      "latex += '\\\\hline\\n'\n",
      "latex += '\\\\textbf{PNL EUR} &'+'%1.0f'%(PNLUSDCas1(RUSD,REUR,m,S)/S/1000)\n",
      "latex += '&'+'%1.0f'%(PNLUSDCas2(RUSD,REUR,m,S)/S/1000)\n",
      "latex += '&'+'%1.0f'%(PNLUSDTOTAL(RUSD,REUR,m,S)/S/1000)\n",
      "latex += '&kEUR\\\\\\\\\\n'\n",
      "latex += '\\\\textbf{PNL USD} &'+'%1.0f'%(PNLUSDCas1(RUSD,REUR,m,S)/1000)\n",
      "latex += '&'+'%1.0f'%(PNLUSDCas2(RUSD,REUR,m,S)/1000)\n",
      "latex += '&'+'%1.0f'%(PNLUSDTOTAL(RUSD,REUR,m,S)/1000)\n",
      "latex += '&kUSD\\\\\\\\\\n'\n",
      "latex += '\\\\hline\\n'\n",
      "latex += '\\\\hline\\n'\n",
      "latex += '\\\\textbf{Delta FX} &'+'%1.2f'%((PNLUSDCas1(RUSD,REUR,m,S+0.0001)-PNLUSDCas1(RUSD,REUR,m,S))/0.0001/1000000)\n",
      "latex += '&'+'%1.2f'%((PNLUSDCas2(RUSD,REUR,m,S+0.0001)-PNLUSDCas2(RUSD,REUR,m,S))/0.0001/1000000)\n",
      "latex += '&'+'%1.2f'%((PNLUSDTOTAL(RUSD,REUR,m,S+0.0001)-PNLUSDTOTAL(RUSD,REUR,m,S))/0.0001/1000000)\n",
      "latex += '&Mios EUR\\\\\\\\\\n'\n",
      "latex += '\\\\textbf{Sensi taux EUR} &'+'%1.2f'%((PNLUSDCas1(RUSD,REUR+0.0001,m,S)-PNLUSDCas1(RUSD,REUR,m,S))/S/1000)\n",
      "latex += '&'+'%1.2f'%((PNLUSDCas2(RUSD,REUR+0.0001,m,S)-PNLUSDCas2(RUSD,REUR,m,S))/S/1000)\n",
      "latex += '&'+'%1.2f'%((PNLUSDTOTAL(RUSD,REUR+0.0001,m,S)-PNLUSDTOTAL(RUSD,REUR,m,S))/S/1000)\n",
      "latex += '&kEUR/bp\\\\\\\\\\n'\n",
      "latex += '\\\\textbf{Sensi taux USD} &'+'%1.2f'%((PNLUSDCas1(RUSD+0.0001,REUR,m,S)-PNLUSDCas1(RUSD,REUR,m,S))/1000)\n",
      "latex += '&'+'%1.2f'%((PNLUSDCas2(RUSD+0.0001,REUR,m,S)-PNLUSDCas2(RUSD,REUR,m,S))/1000)\n",
      "latex += '&'+'%1.2f'%((PNLUSDTOTAL(RUSD+0.0001,REUR,m,S)-PNLUSDTOTAL(RUSD,REUR,m,S))/1000)\n",
      "latex += '&kUSD/bp\\\\\\\\\\n'\n",
      "latex += '\\\\textbf{Sensi basis} &'+'%1.2f'%((PNLUSDCas1(RUSD,REUR,m+0.0001,S)-PNLUSDCas1(RUSD,REUR,m,S))/S/1000)\n",
      "latex += '&'+'%1.2f'%((PNLUSDCas2(RUSD,REUR,m+0.0001,S)-PNLUSDCas2(RUSD,REUR,m,S))/S/1000)\n",
      "latex += '&'+'%1.2f'%((PNLUSDTOTAL(RUSD,REUR,m+0.0001,S)-PNLUSDTOTAL(RUSD,REUR,m,S))/S/1000)\n",
      "latex += '&kEUR/bp\\\\\\\\\\n'\n",
      "latex += '\\\\hline\\n'\n",
      "latex += '\\\\hline\\n'\n",
      "latex += '\\\\textbf{NEUR} &'+'%1.3f'%(NEUR1/(1+delta*(REUR-m))/1000000)\n",
      "latex += '&'+'%1.3f'%(NEUR2/(1+delta*(REUR-m))/1000000)\n",
      "latex += '&'+'%1.3f'%((NEUR1+NEUR2)/(1+delta*(REUR-m))/1000000)\n",
      "latex += '&Mios EUR/bp\\\\\\\\\\n'\n",
      "latex += '\\\\textbf{NUSD} &'+'%1.3f'%(NUSD1/(1+delta*RUSD)/1000000)\n",
      "latex += '&'+'%1.3f'%(NUSD2/(1+delta*RUSD)/1000000)\n",
      "latex += '&'+'%1.3f'%((NUSD1+NUSD2)/(1+delta*RUSD)/1000000)\n",
      "latex += '&Mios USD/bp\\\\\\\\\\n'\n",
      "latex += '\\\\hline\\n'\n",
      "latex += '\\\\end{tabular}\\n'\n",
      "print latex"
     ],
     "language": "python",
     "metadata": {},
     "outputs": [
      {
       "output_type": "stream",
       "stream": "stdout",
       "text": [
        "\\begin{tabular}{|c|r|r|r|l|}\n",
        "\\hline\n",
        "&\\textbf{Cas 1}&\\textbf{Cas 2}&\\textbf{TOTAL}& \\\\\n",
        "\\hline\n",
        "\\hline\n",
        "\\textbf{PNL EUR} &35&9&44&kEUR\\\\\n",
        "\\textbf{PNL USD} &49&12&60&kUSD\\\\\n",
        "\\hline\n",
        "\\hline\n",
        "\\textbf{Delta FX} &-99.60&71.79&-27.81&Mios EUR\\\\\n",
        "\\textbf{Sensi taux EUR} &9.96&-7.18&2.78&kEUR/bp\\\\\n",
        "\\textbf{Sensi taux USD} &-13.84&9.97&-3.87&kUSD/bp\\\\\n",
        "\\textbf{Sensi basis} &-9.96&7.18&-2.78&kEUR/bp\\\\\n",
        "\\hline\n",
        "\\hline\n",
        "\\textbf{NEUR} &-99.602&71.793&-27.809&Mios EUR/bp\\\\\n",
        "\\textbf{NUSD} &138.385&-99.701&38.684&Mios USD/bp\\\\\n",
        "\\hline\n",
        "\\end{tabular}\n",
        "\n"
       ]
      }
     ],
     "prompt_number": 12
    },
    {
     "cell_type": "code",
     "collapsed": false,
     "input": [
      "38.684/S"
     ],
     "language": "python",
     "metadata": {},
     "outputs": [
      {
       "metadata": {},
       "output_type": "pyout",
       "prompt_number": 17,
       "text": [
        "27.85225718194254"
       ]
      }
     ],
     "prompt_number": 17
    },
    {
     "cell_type": "code",
     "collapsed": false,
     "input": [
      "-99."
     ],
     "language": "python",
     "metadata": {},
     "outputs": [
      {
       "metadata": {},
       "output_type": "pyout",
       "prompt_number": 83,
       "text": [
        "138285144.5663011"
       ]
      }
     ],
     "prompt_number": 83
    }
   ],
   "metadata": {}
  }
 ]
}