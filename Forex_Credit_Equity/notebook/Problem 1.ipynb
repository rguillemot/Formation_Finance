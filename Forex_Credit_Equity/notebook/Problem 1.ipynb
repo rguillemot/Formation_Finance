{
 "metadata": {
  "name": ""
 },
 "nbformat": 3,
 "nbformat_minor": 0,
 "worksheets": [
  {
   "cells": [
    {
     "cell_type": "code",
     "collapsed": false,
     "input": [
      "from math import exp"
     ],
     "language": "python",
     "metadata": {},
     "outputs": [],
     "prompt_number": 4
    },
    {
     "cell_type": "code",
     "collapsed": false,
     "input": [
      "S=1.08785\n",
      "REUR=0.0001\n",
      "RUSD=0.0045\n",
      "delta=365/360\n",
      "m=0.0027\n",
      "\n",
      "X=S*(1+delta*RUSD)/(1+delta*(REUR-m))\n",
      "X"
     ],
     "language": "python",
     "metadata": {},
     "outputs": [
      {
       "metadata": {},
       "output_type": "pyout",
       "prompt_number": 32,
       "text": [
        "1.0955938690595548"
       ]
      }
     ],
     "prompt_number": 32
    },
    {
     "cell_type": "code",
     "collapsed": false,
     "input": [
      "X-S"
     ],
     "language": "python",
     "metadata": {},
     "outputs": [
      {
       "metadata": {},
       "output_type": "pyout",
       "prompt_number": 33,
       "text": [
        "0.00774386905955482"
       ]
      }
     ],
     "prompt_number": 33
    },
    {
     "cell_type": "code",
     "collapsed": false,
     "input": [
      "1/S*1e8"
     ],
     "language": "python",
     "metadata": {},
     "outputs": [
      {
       "metadata": {},
       "output_type": "pyout",
       "prompt_number": 36,
       "text": [
        "91924438.11187205"
       ]
      }
     ],
     "prompt_number": 36
    },
    {
     "cell_type": "code",
     "collapsed": false,
     "input": [
      "NEUR1 = -100000000\n",
      "NUSD1 = +109000000\n",
      "\n",
      "def PNLUSDCas1(RUSD,REUR,m,S):\n",
      "    return NUSD1*exp(-RUSD)+NEUR1*exp(-(REUR-m))*S\n",
      "\n",
      "print 'PNL=%1.0f EUR'%(PNLUSDCas1(RUSD,REUR,m,S)/S)\n",
      "print 'PNL=%1.0f USD'%(PNLUSDCas1(RUSD,REUR,m,S))\n",
      "print 'Delta FX=%1.0f EUR'%((PNLUSDCas1(RUSD,REUR,m,S+0.0001)-PNLUSDCas1(RUSD,REUR,m,S))/0.0001)\n",
      "print 'Sensi taux EUR=%1.0f EUR'%((PNLUSDCas1(RUSD,REUR+0.0001,m,S)-PNLUSDCas1(RUSD,REUR,m,S))/S)\n",
      "print 'Sensi taux USD=%1.0f USD'%((PNLUSDCas1(RUSD+0.0001,REUR,m,S)-PNLUSDCas1(RUSD,REUR,m,S)))\n",
      "print 'Sensi basis EUR=%1.0f EUR'%((PNLUSDCas1(RUSD,REUR,m+0.0001,S)-PNLUSDCas1(RUSD,REUR,m,S))/S)\n",
      "print 'NEUR=%1.0f EUR'%(NEUR1/(1+delta*(REUR-m)))\n",
      "print 'NUSD=%1.0f EUR'%(NUSD1/(1+delta*RUSD))"
     ],
     "language": "python",
     "metadata": {},
     "outputs": [
      {
       "output_type": "stream",
       "stream": "stdout",
       "text": [
        "PNL=-512577 EUR\n",
        "PNL=-557607 USD\n",
        "Delta FX=-100260338 EUR\n",
        "Sensi taux EUR=10026 EUR\n",
        "Sensi taux USD=-10851 USD\n",
        "Sensi basis EUR=-10027 EUR\n",
        "NEUR=-100260678 EUR\n",
        "NUSD=108511697 EUR\n"
       ]
      }
     ],
     "prompt_number": 42
    },
    {
     "cell_type": "code",
     "collapsed": false,
     "input": [
      "NEUR2 = +92000000\n",
      "NUSD2 = -100000000\n",
      "\n",
      "def PNLUSDCas2(RUSD,REUR,m,S):\n",
      "    return NUSD2*exp(-RUSD)+NEUR2*exp(-(REUR-m))*S\n",
      "\n",
      "print 'PNL=%1.0f EUR'%(PNLUSDCas2(RUSD,REUR,m,S)/S)\n",
      "print 'PNL=%1.0f USD'%(PNLUSDCas2(RUSD,REUR,m,S))\n",
      "print 'Delta FX=%1.0f EUR'%((PNLUSDCas2(RUSD,REUR,m,S+0.0001)-PNLUSDCas2(RUSD,REUR,m,S))/0.0001)\n",
      "print 'Sensi taux EUR=%1.0f EUR'%((PNLUSDCas2(RUSD,REUR+0.0001,m,S)-PNLUSDCas2(RUSD,REUR,m,S))/S)\n",
      "print 'Sensi taux USD=%1.0f USD'%((PNLUSDCas2(RUSD+0.0001,REUR,m,S)-PNLUSDCas2(RUSD,REUR,m,S)))\n",
      "print 'Sensi basis EUR=%1.0f EUR'%((PNLUSDCas2(RUSD,REUR,m+0.0001,S)-PNLUSDCas2(RUSD,REUR,m,S))/S)\n",
      "print 'NEUR=%1.0f EUR'%(NEUR2/(1+delta*(REUR-m)))\n",
      "print 'NUSD=%1.0f EUR'%(NUSD1/(1+delta*RUSD))"
     ],
     "language": "python",
     "metadata": {},
     "outputs": [
      {
       "output_type": "stream",
       "stream": "stdout",
       "text": [
        "PNL=727804 EUR\n",
        "PNL=791741 USD\n",
        "Delta FX=92239511 EUR\n",
        "Sensi taux EUR=-9223 EUR\n",
        "Sensi taux USD=9955 USD\n",
        "Sensi basis EUR=9224 EUR\n",
        "NEUR=92239824 EUR\n",
        "NUSD=108511697 EUR\n"
       ]
      }
     ],
     "prompt_number": 45
    },
    {
     "cell_type": "code",
     "collapsed": false,
     "input": [
      "def PNLUSDTOTAL(RUSD,REUR,m,S):\n",
      "    return PNLUSDCas1(RUSD,REUR,m,S)+PNLUSDCas2(RUSD,REUR,m,S)"
     ],
     "language": "python",
     "metadata": {},
     "outputs": [],
     "prompt_number": 44
    },
    {
     "cell_type": "code",
     "collapsed": false,
     "input": [
      "latex = '\\\\begin{tabular}{|c|r|r|r|l|}\\n'\n",
      "latex += '\\\\hline\\n'\n",
      "latex += '&\\\\textbf{Cas 1}&\\\\textbf{Cas 2}&\\\\textbf{TOTAL}& \\\\\\\\\\n'\n",
      "latex += '\\\\hline\\n'\n",
      "latex += '\\\\hline\\n'\n",
      "latex += '\\\\textbf{PNL EUR} &'+'%1.0f'%(PNLUSDCas1(RUSD,REUR,m,S)/S/1000)\n",
      "latex += '&'+'%1.0f'%(PNLUSDCas2(RUSD,REUR,m,S)/S/1000)\n",
      "latex += '&'+'%1.0f'%(PNLUSDTOTAL(RUSD,REUR,m,S)/S/1000)\n",
      "latex += '&kEUR\\\\\\\\\\n'\n",
      "latex += '\\\\textbf{PNL USD} &'+'%1.0f'%(PNLUSDCas1(RUSD,REUR,m,S)/1000)\n",
      "latex += '&'+'%1.0f'%(PNLUSDCas2(RUSD,REUR,m,S)/1000)\n",
      "latex += '&'+'%1.0f'%(PNLUSDTOTAL(RUSD,REUR,m,S)/1000)\n",
      "latex += '&kUSD\\\\\\\\\\n'\n",
      "latex += '\\\\hline\\n'\n",
      "latex += '\\\\hline\\n'\n",
      "latex += '\\\\textbf{Delta FX} &'+'%1.2f'%((PNLUSDCas1(RUSD,REUR,m,S+0.0001)-PNLUSDCas1(RUSD,REUR,m,S))/0.0001/1000000)\n",
      "latex += '&'+'%1.2f'%((PNLUSDCas2(RUSD,REUR,m,S+0.0001)-PNLUSDCas2(RUSD,REUR,m,S))/0.0001/1000000)\n",
      "latex += '&'+'%1.2f'%((PNLUSDTOTAL(RUSD,REUR,m,S+0.0001)-PNLUSDTOTAL(RUSD,REUR,m,S))/0.0001/1000000)\n",
      "latex += '&Mios EUR\\\\\\\\\\n'\n",
      "latex += '\\\\textbf{Sensi taux EUR} &'+'%1.2f'%((PNLUSDCas1(RUSD,REUR+0.0001,m,S)-PNLUSDCas1(RUSD,REUR,m,S))/S/1000)\n",
      "latex += '&'+'%1.2f'%((PNLUSDCas2(RUSD,REUR+0.0001,m,S)-PNLUSDCas2(RUSD,REUR,m,S))/S/1000)\n",
      "latex += '&'+'%1.2f'%((PNLUSDTOTAL(RUSD,REUR+0.0001,m,S)-PNLUSDTOTAL(RUSD,REUR,m,S))/S/1000)\n",
      "latex += '&kEUR/bp\\\\\\\\\\n'\n",
      "latex += '\\\\textbf{Sensi taux USD} &'+'%1.2f'%((PNLUSDCas1(RUSD+0.0001,REUR,m,S)-PNLUSDCas1(RUSD,REUR,m,S))/1000)\n",
      "latex += '&'+'%1.2f'%((PNLUSDCas2(RUSD+0.0001,REUR,m,S)-PNLUSDCas2(RUSD,REUR,m,S))/1000)\n",
      "latex += '&'+'%1.2f'%((PNLUSDTOTAL(RUSD+0.0001,REUR,m,S)-PNLUSDTOTAL(RUSD,REUR,m,S))/1000)\n",
      "latex += '&kUSD/bp\\\\\\\\\\n'\n",
      "latex += '\\\\textbf{Sensi basis} &'+'%1.2f'%((PNLUSDCas1(RUSD,REUR,m+0.0001,S)-PNLUSDCas1(RUSD,REUR,m,S))/S/1000)\n",
      "latex += '&'+'%1.2f'%((PNLUSDCas2(RUSD,REUR,m+0.0001,S)-PNLUSDCas2(RUSD,REUR,m,S))/S/1000)\n",
      "latex += '&'+'%1.2f'%((PNLUSDTOTAL(RUSD,REUR,m+0.0001,S)-PNLUSDTOTAL(RUSD,REUR,m,S))/S/1000)\n",
      "latex += '&kEUR/bp\\\\\\\\\\n'\n",
      "latex += '\\\\hline\\n'\n",
      "latex += '\\\\hline\\n'\n",
      "latex += '\\\\textbf{NEUR} &'+'%1.3f'%(NEUR1/(1+delta*(REUR-m))/1000000)\n",
      "latex += '&'+'%1.3f'%(NEUR2/(1+delta*(REUR-m))/1000000)\n",
      "latex += '&'+'%1.3f'%((NEUR1+NEUR2)/(1+delta*(REUR-m))/1000000)\n",
      "latex += '&Mios EUR/bp\\\\\\\\\\n'\n",
      "latex += '\\\\textbf{NUSD} &'+'%1.3f'%(NUSD1/(1+delta*RUSD)/1000000)\n",
      "latex += '&'+'%1.3f'%(NUSD2/(1+delta*RUSD)/1000000)\n",
      "latex += '&'+'%1.3f'%((NUSD1+NUSD2)/(1+delta*RUSD)/1000000)\n",
      "latex += '&Mios USD/bp\\\\\\\\\\n'\n",
      "latex += '\\\\hline\\n'\n",
      "latex += '\\\\end{tabular}\\n'\n",
      "print latex"
     ],
     "language": "python",
     "metadata": {},
     "outputs": [
      {
       "output_type": "stream",
       "stream": "stdout",
       "text": [
        "\\begin{tabular}{|c|r|r|r|l|}\n",
        "\\hline\n",
        "&\\textbf{Cas 1}&\\textbf{Cas 2}&\\textbf{TOTAL}& \\\\\n",
        "\\hline\n",
        "\\hline\n",
        "\\textbf{PNL EUR} &-513&728&215&kEUR\\\\\n",
        "\\textbf{PNL USD} &-558&792&234&kUSD\\\\\n",
        "\\hline\n",
        "\\hline\n",
        "\\textbf{Delta FX} &-100.26&92.24&-8.02&Mios EUR\\\\\n",
        "\\textbf{Sensi taux EUR} &10.03&-9.22&0.80&kEUR/bp\\\\\n",
        "\\textbf{Sensi taux USD} &-10.85&9.95&-0.90&kUSD/bp\\\\\n",
        "\\textbf{Sensi basis} &-10.03&9.22&-0.80&kEUR/bp\\\\\n",
        "\\hline\n",
        "\\hline\n",
        "\\textbf{NEUR} &-100.261&92.240&-8.021&Mios EUR/bp\\\\\n",
        "\\textbf{NUSD} &108.512&-99.552&8.960&Mios USD/bp\\\\\n",
        "\\hline\n",
        "\\end{tabular}\n",
        "\n"
       ]
      }
     ],
     "prompt_number": 46
    },
    {
     "cell_type": "code",
     "collapsed": false,
     "input": [
      "38.684/S"
     ],
     "language": "python",
     "metadata": {},
     "outputs": [
      {
       "metadata": {},
       "output_type": "pyout",
       "prompt_number": 17,
       "text": [
        "27.85225718194254"
       ]
      }
     ],
     "prompt_number": 17
    },
    {
     "cell_type": "code",
     "collapsed": false,
     "input": [
      "-99."
     ],
     "language": "python",
     "metadata": {},
     "outputs": [
      {
       "metadata": {},
       "output_type": "pyout",
       "prompt_number": 83,
       "text": [
        "138285144.5663011"
       ]
      }
     ],
     "prompt_number": 83
    }
   ],
   "metadata": {}
  }
 ]
}