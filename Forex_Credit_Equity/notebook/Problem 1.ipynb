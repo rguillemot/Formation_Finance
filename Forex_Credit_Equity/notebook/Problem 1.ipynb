{
 "metadata": {
  "name": ""
 },
 "nbformat": 3,
 "nbformat_minor": 0,
 "worksheets": [
  {
   "cells": [
    {
     "cell_type": "code",
     "collapsed": false,
     "input": [
      "S=1.3889\n",
      "REUR=0.005\n",
      "RUSD=0.003\n",
      "delta=365/360\n",
      "m=0.0005\n",
      "\n",
      "X=S*(1+delta*RUSD)/(1+delta*(REUR-m))\n",
      "X\n",
      "1/X"
     ],
     "language": "python",
     "metadata": {},
     "outputs": [
      {
       "metadata": {},
       "output_type": "pyout",
       "prompt_number": 33,
       "text": [
        "0.7210710011229182"
       ]
      }
     ],
     "prompt_number": 33
    },
    {
     "cell_type": "code",
     "collapsed": false,
     "input": [
      "NEUR1 = -100000000\n",
      "NUSD1 = 138700000\n",
      "\n",
      "def PNLUSDCas1(RUSD,REUR,m,S):\n",
      "    return NUSD1/(1+delta*RUSD)+NEUR1/(1+delta*(REUR-m))*S\n",
      "\n",
      "print 'PNL=%1.0f EUR'%(PNLUSDCas1(RUSD,REUR,m,S)*S)\n",
      "print 'PNL=%1.0f USD'%(PNLUSDCas1(RUSD,REUR,m,S))\n",
      "print 'Delta FX=%1.0f EUR'%((PNLUSDCas1(RUSD,REUR,m,S+0.0001)-PNLUSDCas1(RUSD,REUR,m,S))/0.0001)\n",
      "print 'Sensi taux EUR=%1.0f EUR'%((PNLUSDCas1(RUSD,REUR+0.0001,m,S)-PNLUSDCas1(RUSD,REUR,m,S))/S)\n",
      "print 'Sensi taux USD=%1.0f USD'%((PNLUSDCas1(RUSD+0.0001,REUR,m,S)-PNLUSDCas1(RUSD,REUR,m,S)))\n",
      "print 'Sensi basis EUR=%1.0f EUR'%((PNLUSDCas1(RUSD,REUR,m+0.0001,S)-PNLUSDCas1(RUSD,REUR,m,S))/S)\n",
      "print 'NEUR=%1.0f EUR'%(NEUR1/(1+delta*(REUR-m)))\n",
      "print 'NUSD=%1.0f EUR'%(NUSD1/(1+delta*RUSD))"
     ],
     "language": "python",
     "metadata": {},
     "outputs": [
      {
       "output_type": "stream",
       "stream": "stdout",
       "text": [
        "PNL=24097 EUR\n",
        "PNL=17350 USD\n",
        "Delta FX=-99552016 EUR\n",
        "Sensi taux EUR=9910 EUR\n",
        "Sensi taux USD=-13786 USD\n",
        "Sensi basis EUR=-9912 EUR\n",
        "NEUR=-99552016 EUR\n",
        "NUSD=138285145 EUR\n"
       ]
      }
     ],
     "prompt_number": 34
    },
    {
     "cell_type": "code",
     "collapsed": false,
     "input": [
      "NEUR2 = 72110000\n",
      "NUSD2 = -100000000\n",
      "\n",
      "def PNLUSDCas2(RUSD,REUR,m,S):\n",
      "    return NUSD2/(1+delta*RUSD)+NEUR2/(1+delta*(REUR-m))*S\n",
      "\n",
      "print 'PNL=%1.0f EUR'%(PNLUSDCas2(RUSD,REUR,m,S)*S)\n",
      "print 'PNL=%1.0f USD'%(PNLUSDCas2(RUSD,REUR,m,S))\n",
      "print 'Delta FX=%1.0f EUR'%((PNLUSDCas2(RUSD,REUR,m,S+0.0001)-PNLUSDCas2(RUSD,REUR,m,S))/0.0001)\n",
      "print 'Sensi taux EUR=%1.0f EUR'%((PNLUSDCas2(RUSD,REUR+0.0001,m,S)-PNLUSDCas2(RUSD,REUR,m,S))/S)\n",
      "print 'Sensi taux USD=%1.0f USD'%((PNLUSDCas2(RUSD+0.0001,REUR,m,S)-PNLUSDCas2(RUSD,REUR,m,S)))\n",
      "print 'Sensi basis EUR=%1.0f EUR'%((PNLUSDCas2(RUSD,REUR,m+0.0001,S)-PNLUSDCas2(RUSD,REUR,m,S))/S)\n",
      "print 'NEUR=%1.0f EUR'%(NEUR2/(1+delta*(REUR-m)))\n",
      "print 'NUSD=%1.0f EUR'%(NUSD1/(1+delta*RUSD))"
     ],
     "language": "python",
     "metadata": {},
     "outputs": [
      {
       "output_type": "stream",
       "stream": "stdout",
       "text": [
        "PNL=5569 EUR\n",
        "PNL=4010 USD\n",
        "Delta FX=71786959 EUR\n",
        "Sensi taux EUR=-7146 EUR\n",
        "Sensi taux USD=9939 USD\n",
        "Sensi basis EUR=7147 EUR\n",
        "NEUR=71786959 EUR\n",
        "NUSD=138285145 EUR\n"
       ]
      }
     ],
     "prompt_number": 40
    },
    {
     "cell_type": "code",
     "collapsed": false,
     "input": [],
     "language": "python",
     "metadata": {},
     "outputs": []
    }
   ],
   "metadata": {}
  }
 ]
}