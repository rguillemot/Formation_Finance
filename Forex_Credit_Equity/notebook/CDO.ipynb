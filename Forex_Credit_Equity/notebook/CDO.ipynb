{
 "metadata": {
  "name": ""
 },
 "nbformat": 3,
 "nbformat_minor": 0,
 "worksheets": [
  {
   "cells": [
    {
     "cell_type": "code",
     "collapsed": false,
     "input": [
      "import math\n",
      "from scipy.stats import norm\n",
      "\n",
      "def comb(p,n):\n",
      "    return math.factorial(n)/math.factorial(p)/math.factorial(n-p)\n",
      "\n",
      "def Loss(N,p):\n",
      "    proba = [comb(n,N)*((p)**n)*((1-p)**(N-n)) for n in range(N+1)]\n",
      "    return proba\n",
      "\n",
      "fig,ax = plt.subplots(figsize=(10,5))\n",
      "proba = Loss(100,0.05)\n",
      "ax.bar(range(100+1),proba)"
     ],
     "language": "python",
     "metadata": {},
     "outputs": [
      {
       "metadata": {},
       "output_type": "pyout",
       "prompt_number": 53,
       "text": [
        "<Container object of 101 artists>"
       ]
      },
      {
       "metadata": {},
       "output_type": "display_data",
       "png": "[encoded data removed]",
       "text": [
        "<matplotlib.figure.Figure at 0x4ef0310>"
       ]
      }
     ],
     "prompt_number": 53
    },
    {
     "cell_type": "code",
     "collapsed": false,
     "input": [
      "from numpy.polynomial import legendre\n",
      "[x,w] = legendre.leggauss(21)\n",
      "\n",
      "y = 6*x\n",
      "weights  = 6*w*norm.pdf(y)\n",
      "rho = 0.9\n",
      "\n",
      "\n",
      "p0 = 0.05\n",
      "y0 = norm.ppf(p0)\n",
      "\n",
      "loss = np.array([float(n)/100 for n in range(100+1)])\n",
      "proba = np.column_stack([np.array(Loss(100,p))*wp for p,wp in zip(norm.cdf((y0-rho*y)/(sqrt(1-rho*rho))),weights)]).sum(axis=1)\n",
      "Rec=0.4\n",
      "\n",
      "print 'Equity : %1.2f'%(sum(proba[:16]*loss[:16])*100*(1-Rec)/loss[15]) + '%'\n",
      "print 'Mezz : %1.2f'%((sum(proba[16:26]*(loss[16:26]-loss[15])))*100*(1-Rec)/(loss[25]-loss[15])) + '%'\n",
      "print 'Senior : %1.2f'%((sum(proba[26:36]*(loss[26:36]-loss[25])))*100*(1-Rec)/(loss[35]-loss[25])) + '%'\n",
      "print 'Super Senior : %1.2f'%((sum(proba[36:]*(loss[36:]-loss[35])))*100*(1-Rec)/(loss[-1]-loss[35])) + '%'"
     ],
     "language": "python",
     "metadata": {},
     "outputs": [
      {
       "output_type": "stream",
       "stream": "stdout",
       "text": [
        "Equity : 2.32%\n",
        "Mezz : 0.00%\n",
        "Senior : 0.36%\n",
        "Super Senior : 1.23%\n"
       ]
      }
     ],
     "prompt_number": 128
    },
    {
     "cell_type": "code",
     "collapsed": false,
     "input": [
      "fig,ax = plt.subplots(figsize=(10,5))\n",
      "ax.bar(range(100+1),proba)"
     ],
     "language": "python",
     "metadata": {},
     "outputs": [
      {
       "metadata": {},
       "output_type": "pyout",
       "prompt_number": 129,
       "text": [
        "<Container object of 101 artists>"
       ]
      },
      {
       "metadata": {},
       "output_type": "display_data",
       "png": "[encoded data removed]",
       "text": [
        "<matplotlib.figure.Figure at 0x6fc4550>"
       ]
      }
     ],
     "prompt_number": 129
    }
   ],
   "metadata": {}
  }
 ]
}