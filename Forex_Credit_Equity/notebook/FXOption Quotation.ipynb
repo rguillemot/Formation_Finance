{
 "metadata": {
  "name": ""
 },
 "nbformat": 3,
 "nbformat_minor": 0,
 "worksheets": [
  {
   "cells": [
    {
     "cell_type": "code",
     "collapsed": false,
     "input": [
      "S = 1.3889\n",
      "rUSD = 0.003\n",
      "rEUR =0.005\n",
      "m=0.001\n",
      "vol = 0.1\n",
      "K = 1.39\n",
      "T = 1.0\n",
      "N = 1000000"
     ],
     "language": "python",
     "metadata": {},
     "outputs": [],
     "prompt_number": 48
    },
    {
     "cell_type": "code",
     "collapsed": false,
     "input": [
      "import numpy as np\n",
      "from scipy.stats import norm\n",
      "import math\n",
      "\n",
      "def BSFX(S,K,T,cp,rd,rf,vol):\n",
      "    if vol*T == 0:\n",
      "        return cp*(F-K)\n",
      "    else:\n",
      "        DFd = exp(-rd*T)\n",
      "        DFf = exp(-rf*T)\n",
      "        F = S*DFf/DFd\n",
      "        d1 = math.log(F/K)/vol/math.sqrt(T)+vol*math.sqrt(T)/2.0\n",
      "        d2 = d1 - vol*math.sqrt(T)\n",
      "    return (cp*F*norm.cdf(cp*d1)-cp*K*norm.cdf(cp*d2))*DFd"
     ],
     "language": "python",
     "metadata": {},
     "outputs": [],
     "prompt_number": 49
    },
    {
     "cell_type": "code",
     "collapsed": false,
     "input": [
      "print 'Prix en dollars : %1.0f dollars'%(BSFX(S,K,T,1,rUSD,rEUR-m,vol)*N)\n",
      "print 'Prix en euros : %1.0f euros'%(BSFX(S,K,T,1,rUSD,rEUR-m,vol)*N/S)\n",
      "print 'Prix en % '+'de nominal dollars : %1.4f'%(BSFX(S,K,T,1,rUSD,rEUR-m,vol)*100/K)+'%'\n",
      "print 'Prix en % '+'de nominal euros : %1.4f'%(BSFX(S,K,T,1,rUSD,rEUR-m,vol)*100)+'%'\n",
      "print 'Prix en dollars pips per EUR: %1.2f'%(BSFX(S,K,T,1,rUSD,rEUR-m,vol)*10000)\n",
      "print 'Prix en eur pips per EUR: %1.2f'%(BSFX(S,K,T,1,rUSD,rEUR-m,vol)/K/S*10000)"
     ],
     "language": "python",
     "metadata": {},
     "outputs": [
      {
       "output_type": "stream",
       "stream": "stdout",
       "text": [
        "Prix en dollars : 53983 dollars\n",
        "Prix en euros : 38867 euros\n",
        "Prix en % de nominal dollars : 3.8837%\n",
        "Prix en % de nominal euros : 5.3983%\n",
        "Prix en dollars pips per EUR: 539.83\n",
        "Prix en eur pips per EUR: 279.62\n"
       ]
      }
     ],
     "prompt_number": 50
    },
    {
     "cell_type": "code",
     "collapsed": false,
     "input": [
      "latex = '\\\\begin{tabular}{|c|c|c|}\\n'\n",
      "latex += '\\\\hline\\n'\n",
      "latex += 'Prix en dollars&&'+'%1.2f kUSD'%(BSFX(S,K,T,1,rUSD,rEUR-m,vol)*N/1000)+'\\\\\\\\\\n'\n",
      "latex += 'Prix en euros&&'+'%1.2f kUSD'%(BSFX(S,K,T,1,rUSD,rEUR-m,vol)*N/S/1000)+'\\\\\\\\\\n'\n",
      "latex += 'Prix en % '+'de nominal dollars&& %1.4f'%(BSFX(S,K,T,1,rUSD,rEUR-m,vol)*100/K)+'%\\\\\\\\\\n'\n",
      "latex += 'Prix en % '+'de nominal dollars&& %1.4f'%(BSFX(S,K,T,1,rUSD,rEUR-m,vol)*100)+'%\\\\\\\\\\n'\n",
      "latex += 'Prix en dollars pips per EUR&& %1.2f'%(BSFX(S,K,T,1,rUSD,rEUR-m,vol)*10000)+'%\\\\\\\\\\n'\n",
      "latex += 'Prix en euros pips per EUR: %1.2f'%(BSFX(S,K,T,1,rUSD,rEUR-m,vol)/K/S*10000)+'%\\\\\\\\\\n'\n",
      "latex += '\\\\hline\\n'\n",
      "latex += '\\\\end{tabular}{|c|c|c|}'\n",
      "print latex"
     ],
     "language": "python",
     "metadata": {},
     "outputs": [
      {
       "output_type": "stream",
       "stream": "stdout",
       "text": [
        "\\begin{tabular}{|c|c|c|}\n",
        "\\hline\n",
        "Prix en dollars&&53.98 kUSD\\\\\n",
        "Prix en euros&&38.87 kUSD\\\\\n",
        "Prix en % de nominal dollars&& 3.8837%\\\\\n",
        "Prix en % de nominal dollars&& 5.3983%\\\\\n",
        "Prix en dollars pips per EUR&& 539.83%\\\\\n",
        "Prix en euros pips per EUR: 279.62%\\\\\n",
        "\\hline\n",
        "\\end{tabular}{|c|c|c|}\n"
       ]
      }
     ],
     "prompt_number": 64
    }
   ],
   "metadata": {}
  }
 ]
}