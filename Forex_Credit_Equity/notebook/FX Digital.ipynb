{
 "metadata": {
  "name": ""
 },
 "nbformat": 3,
 "nbformat_minor": 0,
 "worksheets": [
  {
   "cells": [
    {
     "cell_type": "code",
     "collapsed": false,
     "input": [
      "from matplotlib import rc\n",
      "rc('font',**{'family':'sans-serif','sans-serif':['Helvetica']})\n",
      "## for Palatino and other serif fonts use:\n",
      "#rc('font',**{'family':'serif','serif':['Palatino']})\n",
      "rc('text', usetex=True)\n",
      "rcParams['text.latex.unicode']=True"
     ],
     "language": "python",
     "metadata": {},
     "outputs": [],
     "prompt_number": 1
    },
    {
     "cell_type": "code",
     "collapsed": false,
     "input": [
      "T=1.0\n",
      "S=1.3889\n",
      "rEUR=0.005\n",
      "rUSD=0.003\n",
      "m = 0.001\n",
      "vol = 0.12"
     ],
     "language": "python",
     "metadata": {},
     "outputs": [],
     "prompt_number": 2
    },
    {
     "cell_type": "code",
     "collapsed": false,
     "input": [
      "fig, ((ax1,ax2),(ax3,ax4)) = plt.subplots(2,2,figsize=(8,8))\n",
      "\n",
      "def xfunc(x, pos=0):\n",
      "         return '%1.2f'%(x)\n",
      "        \n",
      "def yfunc(y, pos=0):\n",
      "         return '%1.0f'%(y*100)+'\\%'\n",
      "    \n",
      "Ks = np.linspace(0.9,2.0,100)\n",
      "\n",
      "digital\n",
      "\n",
      "\n",
      "ax1.xaxis.set_major_formatter(FuncFormatter(xfunc))\n",
      "ax1.yaxis.set_major_formatter(FuncFormatter(yfunc))\n",
      "\n",
      "ax2.xaxis.set_major_formatter(FuncFormatter(xfunc))\n",
      "ax2.yaxis.set_major_formatter(FuncFormatter(yfunc))\n",
      "\n",
      "ax1.set_title('Digital EUR',fontsize=17)\n",
      "ax2.set_title('Vega',fontsize=17)\n",
      "ax1.set_xlabel('Strike',fontsize=17)\n",
      "ax2.set_xlabel('Strike',fontsize=17)\n",
      "ax3.set_xlabel('Delta',fontsize=17)\n",
      "\n",
      "ax1.set_xlim(Ks[0],Ks[-1])\n",
      "ax2.set_xlim(Ks[0],Ks[-1])\n",
      "ax3.set_xlim(Deltas[0],Deltas[-1])\n",
      "\n",
      "ax1.plot(Ks,Deltas,color='black')\n",
      "ax2.plot(Ks,Vegas,color='black')\n",
      "ax3.plot(Deltas,Vegas,color='black')\n",
      "plt.savefig('../figures/fxopt-deltavsvega', bbox_inches='tight')"
     ],
     "language": "python",
     "metadata": {},
     "outputs": [
      {
       "ename": "NameError",
       "evalue": "name 'Delta' is not defined",
       "output_type": "pyerr",
       "traceback": [
        "\u001b[1;31m---------------------------------------------------------------------------\u001b[0m\n\u001b[1;31mNameError\u001b[0m                                 Traceback (most recent call last)",
        "\u001b[1;32m<ipython-input-3-849c656cb5f6>\u001b[0m in \u001b[0;36m<module>\u001b[1;34m()\u001b[0m\n\u001b[0;32m      8\u001b[0m \u001b[1;33m\u001b[0m\u001b[0m\n\u001b[0;32m      9\u001b[0m \u001b[0mKs\u001b[0m \u001b[1;33m=\u001b[0m \u001b[0mnp\u001b[0m\u001b[1;33m.\u001b[0m\u001b[0mlinspace\u001b[0m\u001b[1;33m(\u001b[0m\u001b[1;36m0.9\u001b[0m\u001b[1;33m,\u001b[0m\u001b[1;36m2.0\u001b[0m\u001b[1;33m,\u001b[0m\u001b[1;36m100\u001b[0m\u001b[1;33m)\u001b[0m\u001b[1;33m\u001b[0m\u001b[0m\n\u001b[1;32m---> 10\u001b[1;33m \u001b[0mDeltas\u001b[0m \u001b[1;33m=\u001b[0m \u001b[1;33m[\u001b[0m\u001b[0mDelta\u001b[0m\u001b[1;33m(\u001b[0m\u001b[0mS\u001b[0m\u001b[1;33m,\u001b[0m\u001b[0mK\u001b[0m\u001b[1;33m,\u001b[0m\u001b[0mT\u001b[0m\u001b[1;33m,\u001b[0m\u001b[1;36m1\u001b[0m\u001b[1;33m,\u001b[0m\u001b[0mrUSD\u001b[0m\u001b[1;33m,\u001b[0m\u001b[0mrEUR\u001b[0m\u001b[1;33m,\u001b[0m\u001b[0mvol\u001b[0m\u001b[1;33m)\u001b[0m \u001b[1;32mfor\u001b[0m \u001b[0mK\u001b[0m \u001b[1;32min\u001b[0m \u001b[0mKs\u001b[0m\u001b[1;33m]\u001b[0m\u001b[1;33m\u001b[0m\u001b[0m\n\u001b[0m\u001b[0;32m     11\u001b[0m \u001b[0mVegas\u001b[0m \u001b[1;33m=\u001b[0m \u001b[1;33m[\u001b[0m\u001b[0mVega\u001b[0m\u001b[1;33m(\u001b[0m\u001b[0mS\u001b[0m\u001b[1;33m,\u001b[0m\u001b[0mK\u001b[0m\u001b[1;33m,\u001b[0m\u001b[0mT\u001b[0m\u001b[1;33m,\u001b[0m\u001b[1;36m1\u001b[0m\u001b[1;33m,\u001b[0m\u001b[0mrUSD\u001b[0m\u001b[1;33m,\u001b[0m\u001b[0mrEUR\u001b[0m\u001b[1;33m,\u001b[0m\u001b[0mvol\u001b[0m\u001b[1;33m)\u001b[0m \u001b[1;32mfor\u001b[0m \u001b[0mK\u001b[0m \u001b[1;32min\u001b[0m \u001b[0mKs\u001b[0m\u001b[1;33m]\u001b[0m\u001b[1;33m\u001b[0m\u001b[0m\n\u001b[0;32m     12\u001b[0m \u001b[1;33m\u001b[0m\u001b[0m\n",
        "\u001b[1;31mNameError\u001b[0m: name 'Delta' is not defined"
       ]
      },
      {
       "metadata": {},
       "output_type": "display_data",
       "png": "[encoded data removed]",
       "text": [
        "<matplotlib.figure.Figure at 0x3af50d0>"
       ]
      }
     ],
     "prompt_number": 3
    }
   ],
   "metadata": {}
  }
 ]
}