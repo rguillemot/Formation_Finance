{
 "metadata": {
  "name": ""
 },
 "nbformat": 3,
 "nbformat_minor": 0,
 "worksheets": [
  {
   "cells": [
    {
     "cell_type": "code",
     "collapsed": false,
     "input": [
      "from matplotlib import rc\n",
      "rc('font',**{'family':'sans-serif','sans-serif':['Helvetica']})\n",
      "## for Palatino and other serif fonts use:\n",
      "#rc('font',**{'family':'serif','serif':['Palatino']})\n",
      "rc('text', usetex=True)\n",
      "rcParams['text.latex.unicode']=True"
     ],
     "language": "python",
     "metadata": {},
     "outputs": [],
     "prompt_number": 222
    },
    {
     "cell_type": "code",
     "collapsed": false,
     "input": [
      "import datetime\n",
      "startdate = datetime.date(2014,3,19)\n",
      "#tradedate = startdate\n",
      "tradedate = datetime.date(2014,4,22)\n",
      "\n",
      "t = float((tradedate-startdate).days)/365"
     ],
     "language": "python",
     "metadata": {},
     "outputs": [],
     "prompt_number": 322
    },
    {
     "cell_type": "code",
     "collapsed": false,
     "input": [
      "import numpy as np"
     ],
     "language": "python",
     "metadata": {},
     "outputs": [],
     "prompt_number": 252
    },
    {
     "cell_type": "code",
     "collapsed": false,
     "input": [
      "def protect_leg(t,leg,N,Rec,r,intensity):\n",
      "    return N*(1.0-Rec)*intensity*(exp(-(r+intensity)*t)-exp(-(r+intensity)*(leg[-1]-t)))/(r+intensity)\n",
      "\n",
      "def premium_flow(t,T1,T2,N,C,r,intensity):\n",
      "    if (t<=T2):\n",
      "        return N*C*(T2-T1)*365.0/360.0*exp(-(r+intensity)*(T2-t))\n",
      "    \n",
      "def accrued_flow(t,T1,T2,N,C,r,intensity):\n",
      "    if (t<=T2):\n",
      "        return N*C*365.0/360.0*intensity*(-exp(-(r+intensity)*(T2-t))/(r+intensity)/(r+intensity)+exp(-(r+intensity)*(T1-t))/(r+intensity)/(r+intensity)-(T2-T1)*exp(-(r+intensity)*(T2-t))/(r+intensity))\n",
      "\n",
      "def premium_leg(t,leg,N,C,r,intensity):\n",
      "    ret = 0\n",
      "    for idx in range(len(leg)-1):\n",
      "        ret += premium_flow(t,leg[idx],leg[idx+1],N,C,r,intensity)\n",
      "    return ret\n",
      "\n",
      "def accrued_leg(t,leg,N,C,r,intensity):\n",
      "    ret = 0\n",
      "    for idx in range(len(leg)-1):\n",
      "        ret += accrued_flow(t,leg[idx],leg[idx+1],N,C,r,intensity)\n",
      "    return ret\n",
      "\n",
      "def accrued(t,leg,N,C):\n",
      "    idx = 0\n",
      "    while(t>=leg[idx]):\n",
      "        idx=idx+1\n",
      "        break\n",
      "    return float((t-leg[idx-1]))*365/360*N*C\n",
      "\n",
      "def par_spread(t,leg,N,Rec,r,intensity):\n",
      "    return protect_leg(t,leg,N,Rec,r,intensity)/(premium_leg(t,leg,N,1,r,intensity)+accrued_leg(t,leg,N,1,r,intensity)-accrued(t,leg,N,1))\n",
      "\n",
      "def implied_intensity_from_par_spread(t,leg,N,C,Rec,r,spread):\n",
      "    intensity = spread/(1-Rec)\n",
      "    eps = 1e-12\n",
      "    for i in range(20):\n",
      "        val = par_spread(t,leg,N,Rec,r,intensity)\n",
      "        if abs(val-spread)<eps:\n",
      "            break\n",
      "        der = (par_spread(t,leg,N,Rec,r,intensity+eps)-val)/eps\n",
      "        intensity = intensity -(val-spread)/der\n",
      "        \n",
      "    return intensity"
     ],
     "language": "python",
     "metadata": {},
     "outputs": [],
     "prompt_number": 317
    },
    {
     "cell_type": "code",
     "collapsed": false,
     "input": [
      "r = 0.01\n",
      "Rec = 0.4\n",
      "C = 0.01\n",
      "Spread = 0.02\n",
      "N = 10000000\n",
      "\n",
      "T = 5.0\n",
      "freq = 4\n",
      "\n",
      "leg = np.linspace(0,T,T*freq+1)\n",
      "\n",
      "startdate = datetime.date(2014,3,19)\n",
      "tradedate = datetime.date(2014,3,19)\n",
      "\n",
      "t = float((tradedate-startdate).days)/365\n",
      "\n",
      "intensity = 0.03\n",
      "PV_protect = protect_leg(t,leg,N,Rec,r,intensity)\n",
      "PV_premium = premium_leg(t,leg,N,C,r,intensity)\n",
      "PV_accrued = accrued_leg(t,leg,N,C,r,intensity)\n",
      "Val_accrued = accrued(t,leg,N,C)\n",
      "\n",
      "print 'Intensity : %1.2f'%(intensity*100)+'%'\n",
      "print 'Proba : %1.2f'%(exp(-intensity*T)*100)+'%'\n",
      "print 'Protect Leg : %1.0f'%(PV_protect)\n",
      "print 'Premium Leg : %1.0f'%(PV_premium)\n",
      "print 'Accrued Leg : %1.0f'%(PV_accrued)\n",
      "print 'Accrued : %1.0f'%(Val_accrued)\n",
      "print 'Up Front : %1.0f'%(PV_protect-PV_premium-PV_accrued)\n",
      "print 'Clean Price : %1.2f'%(100-(PV_protect-PV_premium-PV_accrued+Val_accrued)/N*100)\n",
      "print 'Par Spread : %1.2f'%(par_spread(t,leg,N,Rec,r,intensity)*100)+'%'"
     ],
     "language": "python",
     "metadata": {},
     "outputs": [
      {
       "output_type": "stream",
       "stream": "stdout",
       "text": [
        "Intensity : 3.00%\n",
        "Proba : 86.07%\n",
        "Protect Leg : 815712\n",
        "Premium Leg : 457174\n",
        "Accrued Leg : 1720\n",
        "Accrued : 0\n",
        "Up Front : 356818\n",
        "Clean Price : 96.43\n",
        "Par Spread : 1.78%\n"
       ]
      }
     ],
     "prompt_number": 331
    },
    {
     "cell_type": "code",
     "collapsed": false,
     "input": [
      "r = 0.01\n",
      "Rec = 0.4\n",
      "C = 0.01\n",
      "Spread = 0.02\n",
      "N = 10000000\n",
      "\n",
      "T = 5.0\n",
      "freq = 4\n",
      "\n",
      "startdate = datetime.date(2014,3,19)\n",
      "tradedate = datetime.date(2014,4,22)\n",
      "\n",
      "t = float((tradedate-startdate).days)/365\n",
      "\n",
      "leg = np.linspace(0,T,T*freq+1)\n",
      "\n",
      "intensity = implied_intensity_from_par_spread(t,leg,N,C,Rec,r,Spread)\n",
      "PV_protect = protect_leg(t,leg,N,Rec,r,intensity)\n",
      "PV_premium = premium_leg(t,leg,N,C,r,intensity)\n",
      "PV_accrued = accrued_leg(t,leg,N,C,r,intensity)\n",
      "Val_accrued = accrued(t,leg,N,C)\n",
      "\n",
      "print 'Intensity : %1.2f'%(intensity*100)+'%'\n",
      "print 'Proba : %1.2f'%(exp(-intensity*T)*100)+'%'\n",
      "print 'Protect Leg : %1.0f'%(PV_protect)\n",
      "print 'Premium Leg : %1.0f'%(PV_premium)\n",
      "print 'Accrued Leg : %1.0f'%(PV_accrued)\n",
      "print 'Accrued : %1.0f'%(Val_accrued)\n",
      "print 'Up Front : %1.0f'%(PV_protect-PV_premium-PV_accrued)\n",
      "print 'Clean Price : %1.2f'%(100-(PV_protect-PV_premium-PV_accrued+Val_accrued)/N*100)\n",
      "print 'Par Spread : %1.2f'%(par_spread(t,leg,N,Rec,r,intensity)*100)+'%'"
     ],
     "language": "python",
     "metadata": {},
     "outputs": [
      {
       "output_type": "stream",
       "stream": "stdout",
       "text": [
        "Intensity : 3.45%\n",
        "Proba : 84.16%\n",
        "Protect Leg : 892800\n",
        "Premium Leg : 453881\n",
        "Accrued Leg : 1964\n",
        "Accrued : 9444\n",
        "Up Front : 436956\n",
        "Clean Price : 95.54\n",
        "Par Spread : 2.00%\n"
       ]
      }
     ],
     "prompt_number": 333
    }
   ],
   "metadata": {}
  }
 ]
}