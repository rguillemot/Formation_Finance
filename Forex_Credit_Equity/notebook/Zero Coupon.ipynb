{
 "metadata": {
  "name": ""
 },
 "nbformat": 3,
 "nbformat_minor": 0,
 "worksheets": [
  {
   "cells": [
    {
     "cell_type": "code",
     "collapsed": false,
     "input": [
      "from matplotlib import rc\n",
      "rc('font',**{'family':'sans-serif','sans-serif':['Helvetica']})\n",
      "## for Palatino and other serif fonts use:\n",
      "#rc('font',**{'family':'serif','serif':['Palatino']})\n",
      "rc('text', usetex=True)\n",
      "rcParams['text.latex.unicode']=True"
     ],
     "language": "python",
     "metadata": {},
     "outputs": [],
     "prompt_number": 1
    },
    {
     "cell_type": "code",
     "collapsed": false,
     "input": [
      "import numpy as np\n",
      "import matplotlib.pyplot as plt\n",
      "\n",
      "def plotFixFlow(ax,starty,t,value,color,label):\n",
      "    ax.arrow(t,starty,0,value,color=color,head_width=0.05, head_length=0.1,linewidth=0.4)\n",
      "    if value > 0:\n",
      "        ax.annotate(label, xy=(t,starty),  \n",
      "                    xycoords='data', size=25, xytext=(10, 35), textcoords='offset points',\n",
      "                    fontsize=20)\n",
      "    else:\n",
      "        ax.annotate(label, xy=(t,starty),  \n",
      "                    xycoords='data', size=25, xytext=(10, -35), textcoords='offset points',\n",
      "                    fontsize=20\n",
      "                    )\n",
      "    \n",
      "def plotdelta(ax,starty,t1,t2,color,label,coeff=1):\n",
      "    x = np.arange(t1,t2+0.02,0.02)\n",
      "    y = starty-(x-t1)*(x-t2)/(t1-t2)/(t1-t2)*0.3*coeff\n",
      "    ax.plot(x,y,color=color,linewidth=0.4,linestyle='--')\n",
      "    ax.annotate(label, xy=((t1+t2)/2,starty),  \n",
      "                xycoords='data', size=20, xytext=(-10, coeff*15), textcoords='offset points'\n",
      "                )\n",
      "\n",
      "fig, ax = plt.subplots(figsize=(15,4))\n",
      "\n",
      "ax.set_xlim([-0.5,3])\n",
      "ax.set_ylim([0.2,2])\n",
      "\n",
      "plt.axis('off')\n",
      "\n",
      "ax.arrow(0.2,0.9,0,0.2,color='black',linewidth=1)\n",
      "ax.annotate('$t$', xy=(0.2,1),  \n",
      "                xycoords='data', size=20, xytext=(-0, 35), textcoords='offset points'\n",
      "                )\n",
      "plotFixFlow(ax,1,0.2,-0.6,'black','$B(t,T)$')\n",
      "\n",
      "ax.arrow(1.8,0.9,0,0.2,color='black',linewidth=1)\n",
      "ax.annotate('$T$', xy=(1.8,1),  \n",
      "                xycoords='data', size=20, xytext=(0, -45), textcoords='offset points'\n",
      "                )\n",
      "\n",
      "ax.arrow(-0.5,1,3,0,color='black',head_width=0.2, head_length=0.1,linewidth=0.1)\n",
      "plotFixFlow(ax,1,1.8,0.8,'black','1')\n",
      "\n",
      "\n",
      "plotdelta(ax,1,0.2,1.8,'black','$\\delta$',4)\n",
      "\n",
      "plt.savefig('../figures/zerocoupon.png', bbox_inches='tight')"
     ],
     "language": "python",
     "metadata": {},
     "outputs": [
      {
       "metadata": {},
       "output_type": "display_data",
       "png": "[encoded data removed]",
       "text": [
        "<matplotlib.figure.Figure at 0x2c08c50>"
       ]
      }
     ],
     "prompt_number": 33
    }
   ],
   "metadata": {}
  }
 ]
}