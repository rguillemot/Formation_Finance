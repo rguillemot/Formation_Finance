{
 "metadata": {
  "name": "",
  "signature": "sha256:34ffaf1b9fcfb882567b8ebe29e0aa1590682d3a29b1b954844848b391a4fb23"
 },
 "nbformat": 3,
 "nbformat_minor": 0,
 "worksheets": [
  {
   "cells": [
    {
     "cell_type": "code",
     "collapsed": false,
     "input": [
      "%pylab inline"
     ],
     "language": "python",
     "metadata": {},
     "outputs": [
      {
       "output_type": "stream",
       "stream": "stdout",
       "text": [
        "Populating the interactive namespace from numpy and matplotlib\n"
       ]
      }
     ],
     "prompt_number": 1
    },
    {
     "cell_type": "code",
     "collapsed": false,
     "input": [
      "from matplotlib import rc, rcParams\n",
      "rc('font',**{'family':'sans-serif','sans-serif':['Helvetica']})\n",
      "## for Palatino and other serif fonts use:\n",
      "#rc('font',**{'family':'serif','serif':['Palatino']})\n",
      "rc('text', usetex=True)\n",
      "rcParams['text.latex.unicode']=True"
     ],
     "language": "python",
     "metadata": {},
     "outputs": [],
     "prompt_number": 2
    },
    {
     "cell_type": "code",
     "collapsed": false,
     "input": [
      "def plotdelta(ax,starty,t1,t2,color,label,coeff=1):\n",
      "    x = np.arange(t1,t2+0.02,0.02)\n",
      "    y = starty-(x-t1)*(x-t2)/(t1-t2)/(t1-t2)*0.3*coeff\n",
      "    ax.plot(x,y,color=color,linewidth=0.4,linestyle='--')\n",
      "    ax.annotate(label, xy=((t1+t2)/2,starty),  \n",
      "                xycoords='data', size=20, xytext=(-10, coeff*15), textcoords='offset points'\n",
      "                )\n",
      "    \n",
      "def plotFixFlow(ax,starty,t,value,color,label):\n",
      "    ax.arrow(t,starty,0,value,color=color,head_width=0.05, head_length=0.1,linewidth=0.4)\n",
      "    ax.annotate(label, xy=(t,starty),  \n",
      "                xycoords='data', size=20, xytext=(10, 25), textcoords='offset points'\n",
      "                )\n",
      "\n",
      "fig, ax = plt.subplots(figsize=(15,3))\n",
      "\n",
      "ax.set_xlim([-0.5,3])\n",
      "ax.set_ylim([0.5,2])\n",
      "\n",
      "plt.axis('off')\n",
      "\n",
      "ax.arrow(0.0,0.9,0,0.2,color='black',linewidth=1)\n",
      "ax.annotate('21 Mars 2016', xy=(0.0,1),  \n",
      "                xycoords='data', size=18, xytext=(-60, -45), textcoords='offset points'\n",
      "                )\n",
      "\n",
      "ax.annotate(u'\\\\textbf{Pr\u00e9c\u00e9dente}', xy=(0.0,1),  \n",
      "                xycoords='data', size=18, xytext=(-60, -75), textcoords='offset points'\n",
      "                )\n",
      "\n",
      "ax.annotate(u'\\\\textbf{Roll Date}', xy=(0.0,1),  \n",
      "                xycoords='data', size=18, xytext=(-60, -95), textcoords='offset points'\n",
      "                )\n",
      "\n",
      "ax.arrow(1.2,0.9,0,0.2,color='black',linewidth=1)\n",
      "ax.annotate('20 Juin 2016', xy=(1.2,1),  \n",
      "                xycoords='data', size=18, xytext=(-60, -45), textcoords='offset points'\n",
      "                )\n",
      "\n",
      "ax.annotate(u'\\\\textbf{Premi\u00e8re}', xy=(1.2,1),  \n",
      "                xycoords='data', size=18, xytext=(-60, -75), textcoords='offset points'\n",
      "                )\n",
      "\n",
      "ax.annotate(u'\\\\textbf{Date de coupon}', xy=(1.2,1),  \n",
      "                xycoords='data', size=18, xytext=(-60, -95), textcoords='offset points'\n",
      "                )\n",
      "\n",
      "\n",
      "ax.arrow(2.5,0.9,0,0.2,color='black',linewidth=1)\n",
      "ax.annotate('20 Juin 2021', xy=(2.5,1),  \n",
      "                xycoords='data', size=18, xytext=(-60, -45), textcoords='offset points'\n",
      "                )\n",
      "\n",
      "\n",
      "ax.annotate(u'\\\\textbf{Date }', xy=(2.5,1),  \n",
      "                xycoords='data', size=18, xytext=(-60, -75), textcoords='offset points'\n",
      "                )\n",
      "\n",
      "ax.annotate(u'\\\\textbf{de maturit\u00e9}', xy=(2.5,1),  \n",
      "                xycoords='data', size=18, xytext=(-60, -95), textcoords='offset points'\n",
      "                )\n",
      "\n",
      "\n",
      "ax.arrow(0.6,0.9,0,0.2,color='black',linewidth=0.1)\n",
      "ax.annotate('25 Avril 2016', xy=(0.6,1),  \n",
      "                xycoords='data', size=18, xytext=(-60, -45), textcoords='offset points'\n",
      "                )\n",
      "ax.annotate(u'\\\\textbf{Date }', xy=(0.6,1),  \n",
      "                xycoords='data', size=18, xytext=(-60, -75), textcoords='offset points'\n",
      "                )\n",
      "\n",
      "ax.annotate(u'\\\\textbf{de valeur}', xy=(0.6,1),  \n",
      "                xycoords='data', size=18, xytext=(-60, -95), textcoords='offset points'\n",
      "                )\n",
      "\n",
      "\n",
      "ax.arrow(-0.5,1,3.3,0,color='black',head_width=0.2, head_length=0.1,linewidth=0.1)\n",
      "\n",
      "plotdelta(ax,1,0,0.6,'black','',3)\n",
      "\n",
      "ax.annotate('Acc', xy=(0.25,0.9),  \n",
      "                xycoords='data', size=18, xytext=(0, 40), textcoords='offset points'\n",
      "                )\n",
      "\n",
      "\n",
      "plotFixFlow(ax,1,1.2,0.8,'black','100 Bps')\n",
      "plotFixFlow(ax,1,2.5,0.8,'black','100 Bps')\n",
      "\n",
      "plotdelta(ax,1.6,1.3,2.4,'black','',0)\n",
      "\n",
      "plt.savefig('../figures/cdxnaig5yserie26.png', bbox_inches='tight')"
     ],
     "language": "python",
     "metadata": {},
     "outputs": [
      {
       "metadata": {},
       "output_type": "display_data",
       "png": "[encoded data removed]",
       "text": [
        "<matplotlib.figure.Figure at 0x5f0d4f0>"
       ]
      }
     ],
     "prompt_number": 6
    },
    {
     "cell_type": "code",
     "collapsed": false,
     "input": [],
     "language": "python",
     "metadata": {},
     "outputs": []
    }
   ],
   "metadata": {}
  }
 ]
}