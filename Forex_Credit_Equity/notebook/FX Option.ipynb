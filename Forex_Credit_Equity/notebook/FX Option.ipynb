{
 "metadata": {
  "name": ""
 },
 "nbformat": 3,
 "nbformat_minor": 0,
 "worksheets": [
  {
   "cells": [
    {
     "cell_type": "code",
     "collapsed": false,
     "input": [
      "from matplotlib import rc\n",
      "rc('font',**{'family':'sans-serif','sans-serif':['Helvetica']})\n",
      "## for Palatino and other serif fonts use:\n",
      "#rc('font',**{'family':'serif','serif':['Palatino']})\n",
      "rc('text', usetex=True)\n",
      "rcParams['text.latex.unicode']=True"
     ],
     "language": "python",
     "metadata": {},
     "outputs": [],
     "prompt_number": 32
    },
    {
     "cell_type": "code",
     "collapsed": false,
     "input": [
      "import numpy as np\n",
      "from scipy.stats import norm\n",
      "import math\n",
      "\n",
      "def BSFX(S,K,T,cp,rd,rf,vol):\n",
      "    if vol*T == 0:\n",
      "        return cp*(F-K)\n",
      "    else:\n",
      "        F = S*exp((rd-rf)*T)\n",
      "        d1 = math.log(F/K)/vol/math.sqrt(T)+vol*math.sqrt(T)/2.0\n",
      "        d2 = d1 - vol*math.sqrt(T)\n",
      "    return (cp*F*norm.cdf(cp*d1)-cp*K*norm.cdf(cp*d2))*exp(-rd*(T))\n",
      "\n",
      "def DeltaFX(S,K,T,cp,rd,rf,vol,delta_ccy,prem_ccy):\n",
      "    eps = 1e-6\n",
      "    premium = BSFX(S+eps,K,T,cp,rd,rf,vol)\n",
      "    delta_raw = (premium-BSFX(S,K,T,cp,rd,rf,vol))/eps\n",
      "    premium = premium/S\n",
      "    if delta_ccy == 1 and prem_ccy == 1:\n",
      "        return delta_raw - premium\n",
      "    elif delta_ccy == 1 and prem_ccy == 2:\n",
      "        return delta_raw\n",
      "    elif delta_ccy == 2 and prem_ccy == 1:\n",
      "        return -(delta_raw-premium)*S/K\n",
      "    elif delta_ccy == 2 and prem_ccy == 2:\n",
      "        return -(delta_raw)*S/K\n",
      "    \n",
      "\n",
      "def StraddleDeltaFX(S,K,T,rd,rf,vol,delta_ccy,prem_ccy):\n",
      "    return DeltaFX(S,K,T,1,rd,rf,vol,delta_ccy,prem_ccy)+DeltaFX(S,K,T,-1,rd,rf,vol,delta_ccy,prem_ccy)\n",
      "\n",
      "def ImpliedStrikeZeroDeltaStraddle(S,T,rd,rf,vol,inc_prem):\n",
      "    K = S*exp((rd-rf)*T)\n",
      "    eps = 1e-8\n",
      "    for i in range(20):\n",
      "        if inc_prem:\n",
      "            val = StraddleDeltaFX(S,K,T,rd,rf,vol,1,1)\n",
      "        else:\n",
      "            val = StraddleDeltaFX(S,K,T,rd,rf,vol,1,2)\n",
      "            \n",
      "        if abs(val) < eps:\n",
      "            return K\n",
      "        \n",
      "        if inc_prem:\n",
      "            der = (StraddleDeltaFX(S,K+eps,T,rd,rf,vol,1,1)-val)/eps\n",
      "        else:\n",
      "            der = (StraddleDeltaFX(S,K+eps,T,rd,rf,vol,1,2)-val)/eps\n",
      "            \n",
      "        K = K-val/der\n",
      "    \n",
      "    return K\n",
      "\n",
      "def ImpliedStrikeDelta(S,T,delta,rd,rf,vol,inc_prem):\n",
      "    K = S*exp((rd-rf)*T)\n",
      "    eps = 1e-8\n",
      "    if delta > 0:\n",
      "        cp = 1\n",
      "    else:\n",
      "        cp = -1\n",
      "    for i in range(20):\n",
      "        if inc_prem:\n",
      "            val = DeltaFX(S,K,T,cp,rd,rf,vol,1,1)\n",
      "        else:\n",
      "            val = DeltaFX(S,K,T,cp,rd,rf,vol,1,2)\n",
      "            \n",
      "        if abs(val-delta) < eps:\n",
      "            return K\n",
      "        \n",
      "        if inc_prem:\n",
      "            der = (DeltaFX(S,K+eps,T,cp,rd,rf,vol,1,1)-val)/eps\n",
      "        else:\n",
      "            der = (DeltaFX(S,K+eps,T,cp,rd,rf,vol,1,2)-val)/eps\n",
      "            \n",
      "        K = K-(val-delta)/der\n",
      "    \n",
      "    return -1\n",
      "\n",
      "\n",
      "def ImpliedVol(S,T,K,cp,rd,rf,price):\n",
      "    vol = 0.15\n",
      "    eps = 1e-8\n",
      "    \n",
      "    for i in range(20):\n",
      "        val = BSFX(S,K,T,cp,rd,rf,vol)\n",
      "            \n",
      "        if abs(val-price) < eps:\n",
      "            return vol\n",
      "    \n",
      "        der = (BSFX(S,K,T,cp,rd,rf,vol+eps)-val)/eps\n",
      "            \n",
      "        vol = vol-(val-price)/der\n",
      "    \n",
      "    return -1\n",
      "\n",
      "\n",
      "def SmileFX(S,T,rd,rf,ATM,RR25,RR10,BF25,BF10,inc_prem):\n",
      "    vol25Call = ATM + BF25 + 0.5*RR25\n",
      "    vol25Put = ATM + BF25 - 0.5*RR25\n",
      "    vol10Call = ATM + BF10 + 0.5*RR10\n",
      "    vol10Put = ATM + BF10 - 0.5*RR10\n",
      "    KATM = ImpliedStrikeZeroDeltaStraddle(S,T,rd,rf,ATM,inc_prem)\n",
      "    K25Call = ImpliedStrikeDelta(S,T,0.25,rd,rf,vol25Call,inc_prem)\n",
      "    K25Put = ImpliedStrikeDelta(S,T,-0.25,rd,rf,vol25Put,inc_prem)\n",
      "    K10Call = ImpliedStrikeDelta(S,T,0.10,rd,rf,vol10Call,inc_prem)\n",
      "    K10Put = ImpliedStrikeDelta(S,T,-0.10,rd,rf,vol10Put,inc_prem)\n",
      "    \n",
      "    return [[K10Put,K25Put,KATM,K25Call,K10Call], [vol10Put,vol25Put,ATM,vol25Call,vol10Call]]"
     ],
     "language": "python",
     "metadata": {},
     "outputs": [],
     "prompt_number": 33
    },
    {
     "cell_type": "code",
     "collapsed": false,
     "input": [
      "from scipy.interpolate import interp1d\n",
      "\n",
      "class SmileFXModel:\n",
      "    def __init__(self,S,T,rd,rf,ATM,RR25,RR10,BF25,BF10,inc_prem=False,extra='lin',nu=1,mu=1):\n",
      "        self.S = S\n",
      "        self.T = T\n",
      "        self.rd = rd\n",
      "        self.rf = rf\n",
      "        (self.Ks,self.vols) = SmileFX(S,T,rd,rf,ATM,RR25,RR10,BF25,BF10,inc_prem)\n",
      "        self.smile_raw = interp1d(self.Ks, self.vols, kind='cubic')\n",
      "        self.nu = nu\n",
      "        self.mu = mu\n",
      "        self.extra = extra\n",
      "        self.a_put = 0\n",
      "        self.b_put = 0\n",
      "        self.c_put = 0\n",
      "        self.a_call = 0\n",
      "        self.b_call = 0\n",
      "        self.c_call = 0\n",
      "        if self.extra == 'arb':\n",
      "            self.compute_extra_put()\n",
      "            self.compute_extra_call()\n",
      "        \n",
      "    def call_extra_log(self,inv_k):\n",
      "        return log(inv_k**(-self.nu)*self.Option(1/inv_k,1,2))\n",
      "\n",
      "    def call_extra(self,k):\n",
      "        return k**(-self.nu)*exp(self.a_call+self.b_call/k+self.c_call/k/k)\n",
      "\n",
      "    def put_extra_log(self,k):\n",
      "        return log(k**(-self.mu)*self.Option(k,-1,2))\n",
      "\n",
      "    def put_extra(self,k):\n",
      "        return k**(self.mu)*exp(self.a_put+self.b_put*k+self.c_put*k*k)\n",
      "    \n",
      "    def compute_extra_put(self):\n",
      "        eps = 1e-8\n",
      "        KMin = self.Ks[0]\n",
      "        m = np.array([[1, KMin, KMin**2 ], [0, 1, 2*KMin ], [0, 0, 2 ]])\n",
      "        v = np.array([\n",
      "                  self.put_extra_log(KMin),\n",
      "                  (self.put_extra_log(KMin+2*eps)-self.put_extra_log(KMin))/2/eps,\n",
      "                  (self.put_extra_log(KMin+2*eps)+self.put_extra_log(KMin)-2*self.put_extra_log(KMin+eps))/eps/eps])\n",
      "        [self.a_put, self.b_put, self.c_put]=tuple(np.linalg.solve(m, v))\n",
      "        \n",
      "    def compute_extra_call(self):\n",
      "        eps = 1e-8\n",
      "        KMax = self.Ks[4]\n",
      "        m = np.array([[1, (1.0/KMax), (1.0/KMax)**2 ], [0, 1, 2.0/KMax ], [0, 0, 2 ]])\n",
      "        v = np.array([\n",
      "                  self.call_extra_log(1.0/KMax),\n",
      "                  (self.call_extra_log(1.0/KMax+2*eps)-self.call_extra_log(1.0/KMax))/2/eps,\n",
      "                  (self.call_extra_log(1.0/KMax+2*eps)+self.call_extra_log(1.0/KMax)-2*self.call_extra_log(1.0/KMax+eps))/eps/eps])\n",
      "        \n",
      "        [self.a_call, self.b_call, self.c_call]=tuple(np.linalg.solve(m, v))\n",
      "\n",
      "    def vol(self,k):\n",
      "        eps = 1e-8\n",
      "        der_min = (self.smile_raw(self.Ks[0]+eps)-self.smile_raw(self.Ks[0]))/eps\n",
      "        der_max = (self.smile_raw(self.Ks[4])-self.smile_raw(self.Ks[4]-eps))/eps\n",
      "        if k<self.Ks[0]:\n",
      "            if self.extra == 'lin':\n",
      "                return self.vols[0]+der_min*(k-self.Ks[0])\n",
      "            elif self.extra == 'flat':\n",
      "                return self.vols[1]\n",
      "            elif self.extra == 'arb':\n",
      "                return ImpliedVol(self.S,self.T,k,-1,self.rd,self.rf,self.put_extra(k))\n",
      "        elif k>self.Ks[4]:\n",
      "            if self.extra == 'lin':\n",
      "                return self.vols[4]+der_max*(k-self.Ks[4])\n",
      "            elif self.extra == 'flat':\n",
      "                return self.vols[4]\n",
      "            elif self.extra == 'arb':\n",
      "                return ImpliedVol(self.S,self.T,k,1,self.rd,self.rf,self.call_extra(k))\n",
      "        else:\n",
      "            return self.smile_raw(k)\n",
      "    \n",
      "    def Option(self,K,cp,ccy):\n",
      "        if ccy == 1:\n",
      "            if k<self.Ks[0]:\n",
      "                if cp == 1:\n",
      "                    return (exp(-rf*T)*S-exp(-rd*T)*K)+put_extra(self,k)\n",
      "                elif cp==-1:\n",
      "                    return put_extra(self,k)\n",
      "            elif k>self.Ks[4]:\n",
      "                if cp == 1:\n",
      "                    return call_extra(self,k)\n",
      "                elif cp==-1:\n",
      "                    return (exp(-rd*T)*K-exp(-rf*T)*S)+call_extra(self,k)\n",
      "            else:\n",
      "                return BSFX(self.S,K,self.T,cp,self.rd,self.rf,self.vol(K))/S\n",
      "        elif ccy == 2:\n",
      "            return BSFX(self.S,K,self.T,cp,self.rd,self.rf,self.vol(K))\n",
      "        \n",
      "    def Digital(self,K,cp,ccy):\n",
      "        eps = 1e-8\n",
      "        if cp == 1:\n",
      "            return (self.Option(K,cp,ccy)-self.Option(K+eps,cp,ccy))/eps\n",
      "        else:\n",
      "            return (self.Option(K+eps,cp,ccy)-self.Option(K,cp,ccy))/eps\n",
      "        \n",
      "    def plot_smile(self,ax,NbStdDev=2,color='black',linestyle='-'):\n",
      "        FATM=self.Ks[2]\n",
      "        volATM = self.vols[2]\n",
      "        NbStdDev=3\n",
      "        \n",
      "        KMin=FATM*exp(-NbStdDev*volATM*sqrt(T))\n",
      "        KMax=FATM*exp(+NbStdDev*volATM*sqrt(T))\n",
      "        x = np.linspace(KMin, KMax, 40)\n",
      "        y=[self.vol(k) for k in x]\n",
      "        ax.plot(x,y,color=color,linestyle=linestyle)\n",
      "        ax.set_title(u'Volatilit\u00e9')\n",
      "        \n",
      "    def plot_option(self,ax,NbStdDev=2):\n",
      "        FATM=self.Ks[2]\n",
      "        volATM = self.vols[2]\n",
      "        NbStdDev=3\n",
      "        KMin=FATM*exp(-NbStdDev*volATM*sqrt(T))\n",
      "        KMax=FATM*exp(+NbStdDev*volATM*sqrt(T))\n",
      "        x = np.linspace(KMin, KMax, 40)\n",
      "        y_call=[self.Option(k,1,2) for k in x]\n",
      "        y_put=[self.Option(k,-1,2) for k in x]\n",
      "        ax.plot(x,y_call,color='blue',label='call')\n",
      "        ax.plot(x,y_put,color='red',label='put')\n",
      "        ax.set_title(u'Call \\& Put')\n",
      "        ax.legend(loc='lower right')\n",
      "        \n",
      "    def plot_digital(self,ax,NbStdDev=2):\n",
      "        FATM=self.Ks[2]\n",
      "        volATM = self.vols[2]\n",
      "        NbStdDev=3\n",
      "        KMin=self.Ks[0]#FATM*exp(-NbStdDev*volATM*sqrt(T))\n",
      "        KMax=self.Ks[4]#FATM*exp(+NbStdDev*volATM*sqrt(T))\n",
      "        x = np.linspace(KMin, KMax, 40)\n",
      "        y_call=[self.Digital(k,1,2) for k in x]\n",
      "        y_put=[self.Digital(k,-1,2) for k in x]\n",
      "        ax.plot(x,y_call,color='blue',label='digital call')\n",
      "        ax.plot(x,y_put,color='red',label='digital put')\n",
      "        ax.set_title(u'Digital Call \\& Digital Put')\n",
      "        ax.legend(loc='lower right')"
     ],
     "language": "python",
     "metadata": {},
     "outputs": [],
     "prompt_number": 34
    },
    {
     "cell_type": "code",
     "collapsed": false,
     "input": [
      "T=1.0\n",
      "S=1.3889\n",
      "rEUR=0.005\n",
      "rUSD=0.003\n",
      "m = 0.001\n",
      "volATM = 0.12\n",
      "RR25=-0.02\n",
      "RR10=-0.04\n",
      "BF25=0.01\n",
      "BF10=0.04\n",
      "\n",
      "FXMod = SmileFXModel(S,T,rUSD,rEUR-m,volATM,RR25,RR10,BF25,BF10,False,'lin',1,1)\n",
      "\n",
      "fig, (ax1,ax2,ax3) = plt.subplots(3,figsize=(8,12),sharex=True)\n",
      "FXMod.plot_smile(ax1)\n",
      "FXMod.plot_option(ax2)\n",
      "FXMod.plot_digital(ax3)\n",
      "print'K ATM : %1.0f'%(FXMod.Ks[2]*100000000)\n",
      "print'K 25CALL : %1.0f'%(FXMod.Ks[3]*100000000)\n",
      "print'K 10CALL : %1.0f'%(FXMod.Ks[1]*100000000)"
     ],
     "language": "python",
     "metadata": {},
     "outputs": [
      {
       "output_type": "stream",
       "stream": "stdout",
       "text": [
        "K ATM : 139753843\n",
        "K 25CALL : 151478455\n",
        "K 10CALL : 127548288\n"
       ]
      },
      {
       "metadata": {},
       "output_type": "display_data",
       "png": "[encoded data removed]",
       "text": [
        "<matplotlib.figure.Figure at 0x42dc610>"
       ]
      }
     ],
     "prompt_number": 40
    },
    {
     "cell_type": "code",
     "collapsed": false,
     "input": [],
     "language": "python",
     "metadata": {},
     "outputs": []
    },
    {
     "cell_type": "markdown",
     "metadata": {},
     "source": [
      "$$C(K)=K^{-\\nu}e^{a+\\frac{b}{K}+\\frac{c}{K^2}}$$\n",
      "$$P(K)=K^{\\mu}e^{a+b K+cK^2}$$\n",
      "\n",
      "$a+b \\hat{K}+c\\hat{K}^2=\\log[\\hat{K}^{-\\nu}C(\\hat{K})]$\n",
      "\n",
      "$a+b K+cK^2=\\log[K^{-\\mu}P(K)]$"
     ]
    },
    {
     "cell_type": "code",
     "collapsed": false,
     "input": [
      "eps = 1e-8\n",
      "\n",
      "def call_extra_log(inv_k,mod,nu):\n",
      "    return log(inv_k**(-nu)*mod.Option(1/inv_k,1,2))\n",
      "\n",
      "def call_extra(k,nu,a,b,c):\n",
      "    return k**(-nu)*exp(a+b/k+c/k/k)\n",
      "\n",
      "def put_extra_log(k,mod,mu):\n",
      "    return log(k**(-mu)*mod.Option(k,-1,2))\n",
      "\n",
      "def put_extra(k,mu,a,b,c):\n",
      "    return k**(mu)*exp(a+b*k+c*k*k)\n",
      "\n",
      "\n",
      "nu = 1\n",
      "mu = 1\n",
      "KMin = FXMod.Ks[0]\n",
      "KMax = FXMod.Ks[4]\n",
      "\n",
      "a_put = np.array([[1, KMin, KMin**2 ], [0, 1, 2*KMin ], [0, 0, 2 ]])\n",
      "b_put = np.array([\n",
      "                  put_extra_log(KMin,FXMod,mu),\n",
      "                  (put_extra_log(KMin+2*eps,FXMod,mu)-put_extra_log(KMin,FXMod,mu))/2/eps,\n",
      "                  (put_extra_log(KMin+2*eps,FXMod,mu)+put_extra_log(KMin,FXMod,mu)-2*put_extra_log(KMin+eps,FXMod,mu))/eps/eps])\n",
      "\n",
      "print a_put\n",
      "print b_put\n",
      "\n",
      "a_call = np.array([[1, (1.0/KMax), (1.0/KMax)**2 ], [0, 1, 2.0/KMax ], [0, 0, 2 ]])\n",
      "b_call = np.array([\n",
      "                  call_extra_log(1.0/KMax,FXMod,nu),\n",
      "                  (call_extra_log(1.0/KMax+2*eps,FXMod,nu)-call_extra_log(1.0/KMax,FXMod,nu))/2/eps,\n",
      "                  (call_extra_log(1.0/KMax+2*eps,FXMod,nu)+call_extra_log(1.0/KMax,FXMod,nu)-2*call_extra_log(1.0/KMax+eps,FXMod,nu))/eps/eps])\n",
      "\n",
      "[a_put, b_put, c_put]=tuple(np.linalg.solve(a_put, b_put))\n",
      "[a_call, b_call, c_call]=tuple(np.linalg.solve(a_call, b_call))\n",
      "\n",
      "NbStdDev=3\n",
      "FATM = FXMod.Ks[2]\n",
      "KMinimum = FATM*exp(-NbStdDev*volATM*sqrt(T))\n",
      "KMaximum = FATM*exp(NbStdDev*volATM*sqrt(T))\n",
      "\n",
      "fig, ((ax1,ax2),(ax3,ax4)) = plt.subplots(2,2)\n",
      "x_put = np.linspace(KMinimum, KMin, 40)\n",
      "y_put1=[put_extra(k,mu,a_put,b_put,c_put) for k in x_put]\n",
      "y_volput1 = [ImpliedVol(S,T,k,-1,rUSD,rEUR,p) for k,p in zip(x_put,y_put1)]\n",
      "y_put2=[FXMod.Option(k,-1,2) for k in x_put]\n",
      "y_volput2 = [ImpliedVol(S,T,k,-1,rUSD,rEUR,p) for k,p in zip(x_put,y_put2)]\n",
      "x_call = np.linspace(KMax, KMaximum, 40)\n",
      "y_call1=[call_extra(k,nu,a_call,b_call,c_call) for k in x_call]\n",
      "y_volcall1 = [ImpliedVol(S,T,k,1,rUSD,rEUR,c) for k,c in zip(x_call,y_call1)]\n",
      "y_call2=[FXMod.Option(k,1,2) for k in x_call]\n",
      "y_volcall2 = [ImpliedVol(S,T,k,1,rUSD,rEUR,c) for k,c in zip(x_call,y_call2)]\n",
      "ax1.plot(x_put,y_put1)\n",
      "ax1.plot(x_put,y_put2)\n",
      "ax2.plot(x_call,y_call1)\n",
      "ax2.plot(x_call,y_call2)\n",
      "ax3.plot(x_put,y_volput1)\n",
      "ax3.plot(x_put,y_volput2)\n",
      "ax4.plot(x_call,y_volcall1)\n",
      "ax4.plot(x_call,y_volcall2)"
     ],
     "language": "python",
     "metadata": {},
     "outputs": [
      {
       "output_type": "stream",
       "stream": "stdout",
       "text": [
        "[[ 1.          1.12012874  1.2546884 ]\n",
        " [ 0.          1.          2.24025749]\n",
        " [ 0.          0.          2.        ]]\n",
        "[ -4.47209358   4.98786861  71.05427358]\n"
       ]
      },
      {
       "metadata": {},
       "output_type": "pyout",
       "prompt_number": 36,
       "text": [
        "[<matplotlib.lines.Line2D at 0x4114050>]"
       ]
      },
      {
       "metadata": {},
       "output_type": "display_data",
       "png": "[encoded data removed]",
       "text": [
        "<matplotlib.figure.Figure at 0x3d64950>"
       ]
      }
     ],
     "prompt_number": 36
    },
    {
     "cell_type": "code",
     "collapsed": false,
     "input": [
      "(a_put,b_put,c_put)"
     ],
     "language": "python",
     "metadata": {},
     "outputs": [
      {
       "metadata": {},
       "output_type": "pyout",
       "prompt_number": 37,
       "text": [
        "(34.516337876081806, -74.602065538531491, 35.527136788005009)"
       ]
      }
     ],
     "prompt_number": 37
    },
    {
     "cell_type": "code",
     "collapsed": false,
     "input": [
      "(a_call,b_call,c_call)"
     ],
     "language": "python",
     "metadata": {},
     "outputs": [
      {
       "metadata": {},
       "output_type": "pyout",
       "prompt_number": 38,
       "text": [
        "(23.229697133821617, -104.31170612754819, 97.699626167013776)"
       ]
      }
     ],
     "prompt_number": 38
    },
    {
     "cell_type": "code",
     "collapsed": false,
     "input": [
      "x = np.linspace(KMinimum, KMin, 40)\n",
      "y=[put_extra(k,nu,a_put,b_put,c_put) for k in x_put]\n",
      "fig, ax = plt.subplots()\n",
      "ax.plot(x,y)"
     ],
     "language": "python",
     "metadata": {},
     "outputs": [
      {
       "metadata": {},
       "output_type": "pyout",
       "prompt_number": 39,
       "text": [
        "[<matplotlib.lines.Line2D at 0x3727750>]"
       ]
      },
      {
       "metadata": {},
       "output_type": "display_data",
       "png": "[encoded data removed]",
       "text": [
        "<matplotlib.figure.Figure at 0x3727810>"
       ]
      }
     ],
     "prompt_number": 39
    },
    {
     "cell_type": "code",
     "collapsed": false,
     "input": [
      "print 'K25Call=%1.6f'%(FXMod.Ks[3])\n",
      "print 'K25Put=%1.6f'%(FXMod.Ks[1])"
     ],
     "language": "python",
     "metadata": {},
     "outputs": [
      {
       "output_type": "stream",
       "stream": "stdout",
       "text": [
        "K25Call=1.514785\n",
        "K25Put=1.275483\n"
       ]
      }
     ],
     "prompt_number": 54
    },
    {
     "cell_type": "code",
     "collapsed": false,
     "input": [
      "F=S*exp((rUSD-rEUR+m)*T)\n",
      "print 'K25Call=%1.6f'%(F*exp(-volATM*sqrt(T)*norm.ppf(0.25)+0.5*volATM*volATM*T))\n",
      "print 'K25Put=%1.6f'%(F*exp(+volATM*sqrt(T)*norm.ppf(0.25)+0.5*volATM*volATM*T))"
     ],
     "language": "python",
     "metadata": {},
     "outputs": [
      {
       "output_type": "stream",
       "stream": "stdout",
       "text": [
        "K25Call=1.515357\n",
        "K25Put=1.288880\n"
       ]
      }
     ],
     "prompt_number": 57
    }
   ],
   "metadata": {}
  }
 ]
}