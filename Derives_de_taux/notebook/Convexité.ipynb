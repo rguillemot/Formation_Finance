{
 "metadata": {
  "name": ""
 },
 "nbformat": 3,
 "nbformat_minor": 0,
 "worksheets": [
  {
   "cells": [
    {
     "cell_type": "code",
     "collapsed": false,
     "input": [
      "R = 0.02\n",
      "K = 0.02\n",
      "N = 20\n",
      "Not = 100000000"
     ],
     "language": "python",
     "metadata": {},
     "outputs": [],
     "prompt_number": 2
    },
    {
     "cell_type": "code",
     "collapsed": false,
     "input": [
      "def fixedleg(N,K,R):\n",
      "    return sum([1.0/(1.0+R)**(1.0+t) for t in range(N)])*K\n",
      "def varleg(N,R):\n",
      "    return 1.0-1.0/(1.0+R)**N\n",
      "def LVL(N,R):\n",
      "    return sum([1.0/(1.0+R)**(1.0+t) for t in range(N)])\n",
      "def LVLDer1(N,R):\n",
      "    return sum([-(1+t)/(1.0+R)**(2.0+t) for t in range(N)])\n",
      "def LVLDer2(N,R):\n",
      "    return sum([(1+t)**2/((1.0+R)**(3.0+t)) for t in range(N)])\n",
      "def swap(N,K,R,cp,Not):\n",
      "    return cp*(fixedleg(N,K,R)-varleg(N,R))*Not\n",
      "def sensi_swap(N,K,R,cp,Not):\n",
      "    return swap(N,K,R,cp,Not)-swap(N,K,R-0.0001,cp,Not)\n",
      "def cvx_swap(N,K,R,cp,Not):\n",
      "    return swap(N,K,R+0.0001,cp,Not)+swap(N,K,R-0.0001,cp,Not)-2.0*swap(N,K,R,cp,Not)"
     ],
     "language": "python",
     "metadata": {},
     "outputs": [],
     "prompt_number": 3
    },
    {
     "cell_type": "code",
     "collapsed": false,
     "input": [
      "latex = ''\n",
      "\n",
      "unbp = 0.0001\n",
      "\n",
      "latex += '\\\\begin{tabular}{|c|c|c|c|c|}\\n'\n",
      "latex += '\\\\hline\\n'\n",
      "latex += '&&PV&Sensi&Convexit\u00e9  \\\\\\\\ \\n'\n",
      "latex += '\\hline\\n'\n",
      "for N in [10,20,30]:\n",
      "    PVLVL = Not*fixedleg(N,unbp,R)\n",
      "    SensiLVL = Not*fixedleg(N,unbp,R+unbp)-PVLVL\n",
      "    CvxLVL = -2*PVLVL+Not*fixedleg(N,unbp,R+unbp)+Not*fixedleg(N,unbp,R-unbp)\n",
      "    PVFix = Not*fixedleg(N,K,R)\n",
      "    PVVar = Not*varleg(N,R)\n",
      "    PVSwap = PVFix-PVVar\n",
      "    SensiFix = Not*fixedleg(N,K,R+unbp)-PVFix\n",
      "    SensiVar = Not*varleg(N,R+unbp)-PVVar\n",
      "    SensiSwap = SensiFix-SensiVar\n",
      "    CvxFix = -2*PVFix +Not*fixedleg(N,K,R+unbp)+Not*fixedleg(N,K,R-unbp)\n",
      "    CvxVar = -2*PVVar+Not*varleg(N,R+unbp)+Not*varleg(N,R-unbp)\n",
      "    CvxSwap = CvxFix-CvxVar\n",
      "    latex += '\\\\multirow{4}{*}{%1.fY}'%(N)\n",
      "    latex += '&LVL& %1.0f kEUR &  %1.0f EUR/bp & %1.3f EUR/bp/bp \\\\\\\\ \\n'%(PVLVL/1000,SensiLVL,CvxLVL)\n",
      "    latex += '&Fixe& %1.0f Mios EUR/bp &  %1.0f kEUR/bp & %1.0f EUR/bp/bp \\\\\\\\ \\n'%(PVFix/1000000,SensiFix/1000,CvxFix)\n",
      "    latex += '&Variable& %1.0f Mios EUR/bp & %1.0f kEUR/bp & %1.0f EUR/bp/bp \\\\\\\\ \\n'%(PVVar/1000000,SensiVar/1000,CvxVar)\n",
      "    latex += '&Swap& %1.0f Mios EUR/bp & %1.0f kEUR/bp & %1.0f EUR/bp/bp \\\\\\\\ \\n'%(PVSwap/1000000,SensiSwap/1000,CvxSwap)\n",
      "    latex += '\\hline\\n'\n",
      "latex += '\\\\end{tabular}\\n'\n",
      "\n",
      "print latex"
     ],
     "language": "python",
     "metadata": {},
     "outputs": [
      {
       "output_type": "stream",
       "stream": "stdout",
       "text": [
        "\\begin{tabular}{|c|c|c|c|c|}\n",
        "\\hline\n",
        "&&PV&Sensi&Convexit\u00e9  \\\\ \n",
        "\\hline\n",
        "\\multirow{4}{*}{10Y}&LVL& 90 kEUR &  -47 EUR/bp & 0.036 EUR/bp/bp \\\\ \n",
        "&Fixe& 18 Mios EUR/bp &  -9 kEUR/bp & 7 EUR/bp/bp \\\\ \n",
        "&Variable& 18 Mios EUR/bp & 80 kEUR/bp & -87 EUR/bp/bp \\\\ \n",
        "&Swap& -0 Mios EUR/bp & -90 kEUR/bp & 94 EUR/bp/bp \\\\ \n",
        "\\hline\n",
        "\\multirow{4}{*}{20Y}&LVL& 164 kEUR &  -158 EUR/bp & 0.220 EUR/bp/bp \\\\ \n",
        "&Fixe& 33 Mios EUR/bp &  -32 kEUR/bp & 44 EUR/bp/bp \\\\ \n",
        "&Variable& 33 Mios EUR/bp & 132 kEUR/bp & -272 EUR/bp/bp \\\\ \n",
        "&Swap& -0 Mios EUR/bp & -163 kEUR/bp & 316 EUR/bp/bp \\\\ \n",
        "\\hline\n",
        "\\multirow{4}{*}{30Y}&LVL& 224 kEUR &  -308 EUR/bp & 0.612 EUR/bp/bp \\\\ \n",
        "&Fixe& 45 Mios EUR/bp &  -62 kEUR/bp & 122 EUR/bp/bp \\\\ \n",
        "&Variable& 45 Mios EUR/bp & 162 kEUR/bp & -493 EUR/bp/bp \\\\ \n",
        "&Swap& -0 Mios EUR/bp & -224 kEUR/bp & 616 EUR/bp/bp \\\\ \n",
        "\\hline\n",
        "\\end{tabular}\n",
        "\n"
       ]
      }
     ],
     "prompt_number": 15
    },
    {
     "cell_type": "code",
     "collapsed": false,
     "input": [
      "with open('test.tex','w') as f:\n",
      "    f.write('\\\\documentclass{article}\\n')\n",
      "    f.write('\\\\usepackage[english,francais]{babel}\\n')\n",
      "    f.write('\\\\usepackage{multirow}\\n')\n",
      "    f.write('\\\\begin{document}\\n')\n",
      "    f.write(latex)\n",
      "    f.write('\\\\end{document}\\n')"
     ],
     "language": "python",
     "metadata": {},
     "outputs": [],
     "prompt_number": 26
    },
    {
     "cell_type": "code",
     "collapsed": false,
     "input": [
      "strike_shift = -0.01\n",
      "sensi_start_1 = sensi_swap(N,K+strike_shift,R,1,Not)\n",
      "sensi_start_2 = sensi_swap(N,K,R,1,Not)\n",
      "hedge = sensi_start_1/sensi_start_2\n",
      "\n",
      "latex = '\\\\begin{tabular}{|c|c|}\\n'\n",
      "latex += '\\\\hline\\n'\n",
      "latex += 'Swap&Sensibilit\u00e9 \\\\\\\\ \\n'\n",
      "latex += '\\\\hline\\n'\n",
      "latex += 'Swap 1 &%1.0f kEUR/bp \\\\\\\\ \\n'%(sensi_start_1/1000)\n",
      "latex += 'Swap 2 &%1.0f kEUR/bp \\\\\\\\ \\n'%(sensi_start_2/1000)\n",
      "latex += '\\\\hline\\n'\n",
      "latex += '\\\\end{tabular}'\n",
      "with open('test.tex','w') as f:\n",
      "    f.write('\\\\documentclass{article}\\n')\n",
      "    f.write('\\\\usepackage[english,francais]{babel}\\n')\n",
      "    f.write('\\\\usepackage{multirow}\\n')\n",
      "    f.write('\\\\usepackage[english,francais]{babel}')\n",
      "    f.write('\\\\usepackage[utf8]{inputenc}')\n",
      "    f.write('\\\\begin{document}\\n')\n",
      "    f.write(latex)\n",
      "    f.write('\\\\end{document}\\n')\n",
      "print sensi_start_1/sensi_start_2"
     ],
     "language": "python",
     "metadata": {},
     "outputs": [
      {
       "output_type": "stream",
       "stream": "stdout",
       "text": [
        "0.903523217953\n"
       ]
      }
     ],
     "prompt_number": 6
    },
    {
     "cell_type": "code",
     "collapsed": false,
     "input": [
      "shift = 0.005\n",
      "cvx_start = cvx_swap(N,K+strike_shift,R,1,Not)-hedge*cvx_swap(N,K,R,1,Not)\n",
      "\n",
      "PV_start = swap(N,K+strike_shift,R,1,Not)-hedge*swap(N,K,R,1,Not)\n",
      "PV_end_1 = swap(N,K+strike_shift,R+shift,1,Not)-hedge*swap(N,K,R+shift,1,Not)\n",
      "PV_end_2 = swap(N,K+strike_shift,R-shift,1,Not)-hedge*swap(N,K,R-shift,1,Not)\n",
      "latex = '\\\\begin{tabular}{|c|c|c|}\\n'\n",
      "latex += '\\\\hline\\n'\n",
      "latex += 'R&PNL&$\\Delta$PNL \\\\\\\\ \\n'\n",
      "latex += '\\\\hline\\n'\n",
      "latex += '2\\% &'+'%1.3f Mios EUR'%(PV_start/1000000) + '& \\\\\\\\ \\n'\n",
      "latex += '3\\% &'+'%1.3f Mios EUR'%(PV_end_1/1000000) + '&' + '%1.3f kEUR\\\\\\\\ \\n'%((PV_end_1-PV_start)/1000)\n",
      "latex += '1\\% &'+'%1.3f Mios EUR'%(PV_end_2/1000000) + '&' + '%1.3f kEUR\\\\\\\\ \\n'%((PV_end_2-PV_start)/1000)\n",
      "latex += '\\\\hline\\n'\n",
      "latex += '\\\\hline\\n'\n",
      "latex += '\\\\end{tabular}'\n",
      "with open('test.tex','w') as f:\n",
      "    f.write('\\\\documentclass{article}\\n')\n",
      "    f.write('\\\\usepackage[english,francais]{babel}\\n')\n",
      "    f.write('\\\\usepackage{multirow}\\n')\n",
      "    f.write('\\\\usepackage[english,francais]{babel}')\n",
      "    f.write('\\\\usepackage[utf8]{inputenc}')\n",
      "    f.write('\\\\begin{document}\\n')\n",
      "    f.write(latex)\n",
      "    f.write('\\\\end{document}\\n')\n",
      "print cvx_start*shift*shift*10000*10000/2\n",
      "print cvx_start"
     ],
     "language": "python",
     "metadata": {},
     "outputs": [
      {
       "output_type": "stream",
       "stream": "stdout",
       "text": [
        "10609.5311654\n",
        "8.48762493232\n"
       ]
      }
     ],
     "prompt_number": 7
    },
    {
     "cell_type": "code",
     "collapsed": false,
     "input": [
      "tenor_shift = -10\n",
      "sensi_start_1 = sensi_swap(N,K,R,1,Not)\n",
      "sensi_start_2 = sensi_swap(N-tenor_shift,K,R,1,Not)\n",
      "hedge = sensi_start_1/sensi_start_2\n",
      "\n",
      "latex = '\\\\begin{tabular}{|c|c|}\\n'\n",
      "latex += '\\\\hline\\n'\n",
      "latex += 'Swap&Sensibilit\u00e9 \\\\\\\\ \\n'\n",
      "latex += '\\\\hline\\n'\n",
      "latex += 'Swap 1 &%1.0f kEUR/bp \\\\\\\\ \\n'%(sensi_start_1/1000)\n",
      "latex += 'Swap 2 &%1.0f kEUR/bp \\\\\\\\ \\n'%(sensi_start_2/1000)\n",
      "latex += '\\\\hline\\n'\n",
      "latex += '\\\\end{tabular}'\n",
      "with open('test.tex','w') as f:\n",
      "    f.write('\\\\documentclass{article}\\n')\n",
      "    f.write('\\\\usepackage[english,francais]{babel}\\n')\n",
      "    f.write('\\\\usepackage{multirow}\\n')\n",
      "    f.write('\\\\usepackage[english,francais]{babel}')\n",
      "    f.write('\\\\usepackage[utf8]{inputenc}')\n",
      "    f.write('\\\\begin{document}\\n')\n",
      "    f.write(latex)\n",
      "    f.write('\\\\end{document}\\n')\n",
      "print sensi_start_1/sensi_start_2"
     ],
     "language": "python",
     "metadata": {},
     "outputs": [
      {
       "output_type": "stream",
       "stream": "stdout",
       "text": [
        "0.729790807249\n"
       ]
      }
     ],
     "prompt_number": 14
    },
    {
     "cell_type": "code",
     "collapsed": false,
     "input": [
      "cvx_start = cvx_swap(N,K,R,1,Not)-hedge*cvx_swap(N-tenor_shift,K,R,1,Not)\n",
      "\n",
      "PV_start = swap(N,K,R,1,Not)-hedge*swap(N-tenor_shift,K,R,1,Not)\n",
      "PV_end_1 = swap(N,K,R+shift,1,Not)-hedge*swap(N-tenor_shift,K,R+shift,1,Not)\n",
      "PV_end_2 = swap(N,K,R-shift,1,Not)-hedge*swap(N-tenor_shift,K,R-shift,1,Not)\n",
      "latex = '\\\\begin{tabular}{|c|c|c|}\\n'\n",
      "latex += '\\\\hline\\n'\n",
      "latex += 'R&PNL&$\\Delta$PNL \\\\\\\\ \\n'\n",
      "latex += '\\\\hline\\n'\n",
      "latex += '2\\% &'+'%1.3f Mios EUR'%(PV_start/1000000) + '& \\\\\\\\ \\n'\n",
      "latex += '3\\% &'+'%1.3f Mios EUR'%(PV_end_1/1000000) + '&' + '%1.3f kEUR\\\\\\\\ \\n'%((PV_end_1-PV_start)/1000)\n",
      "latex += '1\\% &'+'%1.3f Mios EUR'%(PV_end_2/1000000) + '&' + '%1.3f kEUR\\\\\\\\ \\n'%((PV_end_2-PV_start)/1000)\n",
      "latex += '\\\\hline\\n'\n",
      "latex += '\\\\hline\\n'\n",
      "latex += '\\\\end{tabular}'\n",
      "with open('test.tex','w') as f:\n",
      "    f.write('\\\\documentclass{article}\\n')\n",
      "    f.write('\\\\usepackage[english,francais]{babel}\\n')\n",
      "    f.write('\\\\usepackage{multirow}\\n')\n",
      "    f.write('\\\\usepackage[english,francais]{babel}')\n",
      "    f.write('\\\\usepackage[utf8]{inputenc}')\n",
      "    f.write('\\\\begin{document}\\n')\n",
      "    f.write(latex)\n",
      "    f.write('\\\\end{document}\\n')\n",
      "print cvx_start*shift*shift*10000*10000/2\n",
      "print cvx_start"
     ],
     "language": "python",
     "metadata": {},
     "outputs": [
      {
       "output_type": "stream",
       "stream": "stdout",
       "text": [
        "-167365.33312\n",
        "-133.892266496\n"
       ]
      }
     ],
     "prompt_number": 15
    },
    {
     "cell_type": "code",
     "collapsed": false,
     "input": [
      "sensi_swap(N,K,R,1,Not)-hedge*sensi_swap(N-tenor_shift,K,R,1,Not)"
     ],
     "language": "python",
     "metadata": {},
     "outputs": [
      {
       "metadata": {},
       "output_type": "pyout",
       "prompt_number": 22,
       "text": [
        "0.0"
       ]
      }
     ],
     "prompt_number": 22
    },
    {
     "cell_type": "code",
     "collapsed": false,
     "input": [
      "133*2500/2"
     ],
     "language": "python",
     "metadata": {},
     "outputs": [
      {
       "metadata": {},
       "output_type": "pyout",
       "prompt_number": 16,
       "text": [
        "166250"
       ]
      }
     ],
     "prompt_number": 16
    }
   ],
   "metadata": {}
  }
 ]
}