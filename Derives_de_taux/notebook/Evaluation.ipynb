{
 "metadata": {
  "name": ""
 },
 "nbformat": 3,
 "nbformat_minor": 0,
 "worksheets": [
  {
   "cells": [
    {
     "cell_type": "heading",
     "level": 1,
     "metadata": {},
     "source": [
      "Evaluation - Valorisation Produits d\u00e9riv\u00e9s de taux - Correction"
     ]
    },
    {
     "cell_type": "heading",
     "level": 2,
     "metadata": {},
     "source": [
      "Valorisation du swap arrears"
     ]
    },
    {
     "cell_type": "markdown",
     "metadata": {},
     "source": [
      "Rappelons la formule du taux ** in ARREAR** que nous avons vu dans le cours:\n",
      "\n",
      "LIBOR **in ARREARS** $=\\mathbb{E}_t^{Q^{T_1}}[L(T_f,T_1,T_2)]$\n",
      "$=\\frac{L(t,T_1,T_2)+\\delta \\mathbb{E}_t^{Q^{T_2}}[L(T_f,T_1,T_2)^2]}{1+\\delta L(t,T_1,T_2)}$\n",
      "\n",
      "Pour all\u00e9ger les notations nous notons $L(t,T_1,T_2)$ avec la simple lettre $L$.\n",
      "\n",
      "Maintenant noud devons seulement calculer $\\mathbb{E}_t^{Q^{T_2}}[L(T_f,T_1,T_2)^2]$ pour chacun des 3 mod\u00e8les et adapter la formule:\n",
      "\n",
      "* Mod\u00e8le lognormal: $L\\times \\frac{1+\\delta Le^{\\sigma_{ATM}^2(T_f-t)}}{1+\\delta L}$\n",
      "\n",
      "* Mod\u00e8le normal:$L\\times \\frac{1+\\delta L(1+\\sigma_{ATM}^2(T_f-t))}{1+\\delta L}$\n",
      "\n",
      "* Mod\u00e8le lognormal d\u00e9cal\u00e9:$\\frac{L+\\delta \\times (L^2e^{\\sigma_{SL}^2(T_f-t)}+2mL(1-e^{\\sigma_{SL}^2(T_f-t)})+m^2(1-e^{\\sigma_{SL}^2(T_f-t)})))}{1+\\delta L}$ avec $\\sigma_{SL}=\\sigma_{ATM}\\frac{L}{L+m}$\n",
      "\n",
      "Pour que le mod\u00e8le normal et lognormal d\u00e9cal\u00e9 soient coh\u00e9rents avec la volatilit\u00e9 de march\u00e9 \u00e0 la monnaie nous utilisons les approximations suivantes:\n",
      "\n",
      "* $\\sigma_N \\simeq \\sigma_{ATM} \\times L$\n",
      "* $\\sigma_{SL} \\simeq \\sigma_{ATM} \\times \\frac{L}{L+m}$"
     ]
    },
    {
     "cell_type": "heading",
     "level": 2,
     "metadata": {},
     "source": [
      "Valorisation du swap capped & floored"
     ]
    },
    {
     "cell_type": "markdown",
     "metadata": {},
     "source": [
      "On calcule \"classiquement\" la valeur non actualis\u00e9e d'un flux foward capp\u00e9 floor\u00e9 avec la formule suivante:\n",
      "\n",
      "Foward **Capped & Floored** $=\\mathbb{E}_t^{Q^{T_2}}[\\underbrace{L(T_f,T_1,T_2)}_{\\text{Achat d'un forward}}+\\underbrace{(K \\times (1-d)-L(T_f,T_1,T_2))_+}_{\\text{Achat d'un floorlet}}-\\underbrace{(L(T_f,T_1,T_2)-K \\times (1+d))_+}_{\\text{Vente d'un caplet}}]$\n",
      "\n",
      "La valeur pour chacun des 3 mod\u00e8les est la suivante:\n",
      "\n",
      "* Lognormal: LIBOR **Capped & Floored**: $(L-K)+BS_{PUT}(T_f-t,K\\times (1-d),,L,\\sigma_{ATM})-BS_{CALL}(T_f-t,K\\times (1+d),,L,\\sigma_{ATM})$\n",
      "* Normal: LIBOR **Capped & Floored**: $(L-K)+N_{PUT}(T_f-t,K\\times (1-d),L,\\sigma_{ATM} \\times F)-N_{CALL}(T_f-t,K\\times (1+d),,L,\\sigma\\times (1+d) \\times F)$\n",
      "* Lognormal d\u00e9cal\u00e9: LIBOR **Capped & Floored**: $(L-K)+BS_{PUT}(T_f-t,K\\times (1-d)+m,L+m,\\sigma_{SL})-BS_{CALL}(T_f-t,K\\times (1+d),,L,\\sigma_{SL})$ avec $\\sigma_{SL}=\\frac{\\sigma_{ATM}L}{L+m}$\n",
      "\n",
      "On utilise les m\u00eames approximations que pr\u00e9c\u00e9demment pour que les mod\u00e8les soient coh\u00e9rents avec la volatilit\u00e9 de march\u00e9 \u00e0 la monnaie.\n",
      "\n",
      "Les fonctions $BS_{CALL/PUT}$ et $N_{CALL/PUT}$ correspondent aux d\u00e9finitions du polycopi\u00e9 (sections 4.1 et 4.4.1)."
     ]
    },
    {
     "cell_type": "markdown",
     "metadata": {},
     "source": [
      "On remarque que dans le cas du mod\u00e8le normal, lorsque $K=L$ la jambe capped & floored est \u00e9gale \u00e0 la jambe fixe classique.\n",
      "\n",
      "En effet:\n",
      "\n",
      "$$N_{CALL}(T_f-t,L\\times (1+d),L,\\sigma_{N})=N_{PUT}(T_f-t,L\\times (1-d),L,\\sigma_{N} \\times F)$$\n",
      "\n",
      "En effet la formule Call/Put normale est sym\u00e9trique par rapport \u00e0 la monaie \u00e0 la diff\u00e9rence de la formule de Black & Scholes comme l'illustre le graphique ci dessous."
     ]
    },
    {
     "cell_type": "code",
     "collapsed": false,
     "input": [
      "import numpy as np\n",
      "from scipy.stats import norm\n",
      "import math\n",
      "\n",
      "\n",
      "# Formule de Black & Scholes (Lognormal)\n",
      "def BS(F,K,T,cp,vol):\n",
      "    if vol*T == 0:\n",
      "        ret = cp*(F-K)\n",
      "        if ret<0:\n",
      "            return 0\n",
      "    else:\n",
      "        d1 = math.log(F/K)/vol/math.sqrt(T)+vol*math.sqrt(T)/2.0\n",
      "        d2 = d1 - vol*math.sqrt(T)\n",
      "        ret = cp*F*norm.cdf(cp*d1)-cp*K*norm.cdf(cp*d2)\n",
      "    \n",
      "    return ret\n",
      "\n",
      "# Formule de Bachelier (Normal)\n",
      "def BSNor(F,K,T,cp,vol):\n",
      "    if vol*T == 0:\n",
      "        ret = cp*(F-K)\n",
      "        if ret<0:\n",
      "            return 0\n",
      "    else:\n",
      "        d = (F-K)/(vol*math.sqrt(T))\n",
      "        ret = vol*math.sqrt(T)*(cp*d*norm.cdf(cp*d)+norm.pdf(cp*d))\n",
      "    return ret\n",
      "\n",
      "import matplotlib.pyplot as plt\n",
      "\n",
      "strikes = np.arange(0.95,1.05,0.005)\n",
      "bscall = [BS(1,k,2,1,0.2) for k in strikes]\n",
      "bsput = [BS(1,k,2,-1,0.2) for k in strikes]\n",
      "normcall = [BSNor(1,k,2,1,0.2) for k in strikes]\n",
      "normput = [BSNor(1,k,2,-1,0.2) for k in strikes]\n",
      "\n",
      "f, (ax1, ax2) = plt.subplots(1, 2, sharey=True)\n",
      "f.set_size_inches(12,6)\n",
      "ax1.plot(strikes,bscall,label=\"CALL\")\n",
      "ax1.plot(strikes,bsput,label=\"PUT\")\n",
      "ax2.plot(strikes,normcall,label=\"CALL\")\n",
      "ax2.plot(strikes,normput,label=\"PUT\")\n",
      "\n",
      "ax1.set_title('Black & Scholes (Lognormal)')\n",
      "ax2.set_title('Bachelier (Normal)')\n",
      "\n",
      "legend = ax1.legend(loc='lower center')\n",
      "legend = ax2.legend(loc='lower center')\n",
      "\n",
      "ax1.set_xlabel(\"Strike\")\n",
      "ax1.set_ylabel(\"Prix\")\n",
      "ax2.set_xlabel(\"Strike\")\n",
      "\n",
      "plt.show()"
     ],
     "language": "python",
     "metadata": {},
     "outputs": [
      {
       "metadata": {},
       "output_type": "display_data",
       "png": "[encoded data removed]",
       "text": [
        "<matplotlib.figure.Figure at 0x69fa150>"
       ]
      }
     ],
     "prompt_number": 338
    },
    {
     "cell_type": "markdown",
     "metadata": {},
     "source": [
      "Ci dessous vous trouvez l'impl\u00e9mentation informatique des 2 jambes :\n",
      "\n",
      "* la jambe **ARREARS** et la jambe Capped & Floored : arrearsleg()\n",
      "* la jambe **Capped & Floored** : cfleg()"
     ]
    },
    {
     "cell_type": "code",
     "collapsed": false,
     "input": [
      "# Facteur d'acualisation \n",
      "def df(t,R):\n",
      "    return exp(-R*t)\n",
      "\n",
      "# Taux forward\n",
      "def fwd (t1,t2,R):\n",
      "    return (df(t1,R)/df(t2,R)-1)/(t2-t1)\n",
      "\n",
      "# Jambe fixe\n",
      "def fixedleg(T,K,freq,R):\n",
      "    return sum([df(t+1.0/freq,R)*1.0/freq for t in np.arange(0,T,1.0/freq)])*K\n",
      "\n",
      "# Jambe variable\n",
      "def varleg(T,freq,R):\n",
      "    return sum([df(t+1.0/freq,R)*1.0/freq*fwd(t,t+1.0/freq,R) for t in np.arange(0,T,1.0/freq)])\n",
      "\n",
      "#\u00a0Fwd arrears\n",
      "def fwd_arrears(t1,t2,R,volATM,m,modtype):\n",
      "    f = fwd(t1,t2,R)\n",
      "    if modtype == \"log\":\n",
      "        return f*(1+(t2-t1)*f*exp(volATM*volATM*t1))/(1+(t2-t1)*f)\n",
      "    elif modtype == \"normal\":\n",
      "        return f*(1+(t2-t1)*f*(1+volATM*volATM*t1))/(1+(t2-t1)*f)\n",
      "    elif modtype == \"logdec\":\n",
      "        volSL = volATM*f/(f+m)\n",
      "        return (f+(t2-t1)*(f*f*exp(volSL*volSL*t1)-2*m*f*(1-exp(volSL*volSL*t1))-m**2*(1-exp(volSL*volSL*t1))))/(1+(t2-t1)*f)\n",
      "\n",
      "# Jambe variable arrears                  \n",
      "def arrearsleg(T,freq,R,volATM,m,modtype):\n",
      "    return sum([df(t+1.0/freq,R)*1.0/freq*fwd_arrears(t+1.0/freq,t+2.0/freq,R,volATM,m,modtype) for t in np.arange(0,T,1.0/freq)])\n",
      "        \n",
      "def fwd_cf(t1,t2,kmin,kmax,R,volATM,m,modtype):\n",
      "    f = fwd(t1,t2,R)\n",
      "    if modtype == \"log\":\n",
      "        return f + BS(f,kmin,t1,-1,volATM)-BS(f,kmax,t1,1,volATM)\n",
      "    if modtype == \"normal\":\n",
      "        return f + BSNor(f,kmin,t1,-1,volATM*f)-BSNor(f,kmax,t1,1,volATM*f)\n",
      "    if modtype == \"logdec\":\n",
      "        volSL = volATM*f/(f+m)\n",
      "        return f + BS(f+m,kmin+m,t1,-1,volSL)-BS(f+m,kmax+m,t1,1,volSL)\n",
      "    \n",
      "# Jambe variable arrears                  \n",
      "def cfleg(T,K,d,freq,R,volATM,m,modtype):\n",
      "    kmin = K*(1.0-d)\n",
      "    kmax = K*(1.0+d)\n",
      "    return sum([df(t+1.0/freq,R)*1.0/freq*fwd_cf(t,t+1.0/freq,kmin,kmax,R,volATM,m,modtype) for t in np.arange(0,T,1.0/freq)])"
     ],
     "language": "python",
     "metadata": {
      "slideshow": {
       "slide_type": "skip"
      }
     },
     "outputs": [],
     "prompt_number": 251
    },
    {
     "cell_type": "code",
     "collapsed": false,
     "input": [
      "freq = 2\n",
      "R = 0.02\n",
      "volATM = 0.2\n",
      "d = 0.1"
     ],
     "language": "python",
     "metadata": {},
     "outputs": [],
     "prompt_number": 295
    },
    {
     "cell_type": "code",
     "collapsed": false,
     "input": [
      "from IPython.display import HTML\n",
      "\n",
      "def arrears(tenor,volATM,modeltype,m):\n",
      "    return '%1.2f'%((arrearsleg(tenor,freq,R,volATM,m,modeltype)-varleg(tenor,freq,R))/fixedleg(tenor,1,1,R)*10000)+\"%\"\n",
      "\n",
      "def cf(tenor,volATM,modeltype,m):\n",
      "    return '%1.2f'%((cfleg(tenor,K,d,freq,R,volATM,m,modeltype)-varleg(tenor,freq,R))/fixedleg(tenor,1,1,R)*10000)+\"%\"\n",
      "\n",
      "tenors = [10,20,30]\n",
      "volATMs = [0.15,0.2,0.25]\n",
      "modeltypes = [\"log\",\"normal\",\"logdec\"]\n",
      "ms = [0.01*R,0.1*R,R,10*R,100*R,1000*R]\n",
      "\n",
      "def display_results(func):\n",
      "    s = \"\"\n",
      "    s += \"<table>\"\n",
      "    s += \"<tr>\"\n",
      "    s += \"<th colspan=2>Tenor</th>\"\n",
      "    for tenor in tenors:\n",
      "        s += \"<th></th>\"\n",
      "        s += \"<th colspan=%d style='text-align:center'>%d\"%(len(volATMs),tenor)+\"Y</th>\"\n",
      "    s += \"</tr>\"\n",
      "    s += \"<tr><td colspan=%d></td></tr>\"%(2+(len(volATMs)+1)*len(tenors))\n",
      "    s += \"<tr>\"\n",
      "    s += \"<td>Mod\u00e8le</td>\"\n",
      "    s += \"<td>m</td>\"\n",
      "    for tenor in tenors:\n",
      "        s += \"<td></td>\"\n",
      "        for volATM in volATMs:\n",
      "            s += \"<td style='text-align:center'>%1.0f\"%(volATM*100)+\"%</th>\"\n",
      "    s += \"</tr>\"\n",
      "    s += \"<tr><td colspan=%d></td></tr>\"%(2+(len(volATMs)+1)*len(tenors))\n",
      "    for modeltype in modeltypes:\n",
      "        if modeltype == \"logdec\":\n",
      "            s+=\"<tr><td></td></tr>\"\n",
      "            for idx, m in enumerate(ms):\n",
      "                s+=\"<tr>\"\n",
      "                if idx == 0:\n",
      "                    s += \"<td rowspan=%d>\"%(len(ms)) + modeltype + \"</td>\"\n",
      "                s += \"<td>%1.4f</td>\"%(m)\n",
      "                for tenor in tenors:\n",
      "                    s += \"<td></td>\"\n",
      "                    for volATM in volATMs:\n",
      "                        s += \"<td>\" + func(tenor,volATM,modeltype,m) + \"</td>\"\n",
      "                s+=\"</tr>\"\n",
      "        else:\n",
      "            s+=\"<tr>\"\n",
      "            s += \"<td>\" + modeltype + \"</td>\"\n",
      "            s += \"<td></td>\"\n",
      "            for tenor in tenors:\n",
      "                s += \"<td></td>\"\n",
      "                for volATM in volATMs:\n",
      "                    s += \"<td>\" + func(tenor,volATM,modeltype,0) + \"</td>\"\n",
      "            s+=\"</tr>\"\n",
      "    s+=\"</table>\"\n",
      "    return HTML(s)"
     ],
     "language": "python",
     "metadata": {
      "slideshow": {
       "slide_type": "skip"
      }
     },
     "outputs": [],
     "prompt_number": 313
    },
    {
     "cell_type": "code",
     "collapsed": false,
     "input": [
      "display_results(arrears)"
     ],
     "language": "python",
     "metadata": {},
     "outputs": [
      {
       "html": [
        "<table><tr><th colspan=2>Tenor</th><th></th><th colspan=3 style='text-align:center'>10Y</th><th></th><th colspan=3 style='text-align:center'>20Y</th><th></th><th colspan=3 style='text-align:center'>30Y</th></tr><tr><td colspan=14></td></tr><tr><td>Mod\u00e8le</td><td>m</td><td></td><td style='text-align:center'>15%</th><td style='text-align:center'>20%</th><td style='text-align:center'>25%</th><td></td><td style='text-align:center'>15%</th><td style='text-align:center'>20%</th><td style='text-align:center'>25%</th><td></td><td style='text-align:center'>15%</th><td style='text-align:center'>20%</th><td style='text-align:center'>25%</th></tr><tr><td colspan=14></td></tr><tr><td>log</td><td></td><td></td><td>0.25%</td><td>0.47%</td><td>0.80%</td><td></td><td>0.50%</td><td>1.02%</td><td>1.89%</td><td></td><td>0.78%</td><td>1.69%</td><td>3.48%</td></tr><tr><td>normal</td><td></td><td></td><td>0.23%</td><td>0.41%</td><td>0.64%</td><td></td><td>0.43%</td><td>0.77%</td><td>1.20%</td><td></td><td>0.62%</td><td>1.11%</td><td>1.73%</td></tr><tr><td></td></tr><tr><td rowspan=6>logdec</td><td>0.0002</td><td></td><td>0.25%</td><td>0.47%</td><td>0.79%</td><td></td><td>0.50%</td><td>1.01%</td><td>1.88%</td><td></td><td>0.78%</td><td>1.67%</td><td>3.43%</td></tr><tr><td>0.0020</td><td></td><td>0.24%</td><td>0.46%</td><td>0.77%</td><td></td><td>0.49%</td><td>0.97%</td><td>1.74%</td><td></td><td>0.75%</td><td>1.56%</td><td>3.04%</td></tr><tr><td>0.0200</td><td></td><td>0.23%</td><td>0.42%</td><td>0.67%</td><td></td><td>0.45%</td><td>0.82%</td><td>1.34%</td><td></td><td>0.66%</td><td>1.22%</td><td>2.02%</td></tr><tr><td>0.2000</td><td></td><td>0.23%</td><td>0.41%</td><td>0.64%</td><td></td><td>0.43%</td><td>0.77%</td><td>1.21%</td><td></td><td>0.62%</td><td>1.11%</td><td>1.74%</td></tr><tr><td>2.0000</td><td></td><td>0.23%</td><td>0.41%</td><td>0.64%</td><td></td><td>0.43%</td><td>0.77%</td><td>1.20%</td><td></td><td>0.62%</td><td>1.11%</td><td>1.73%</td></tr><tr><td>20.0000</td><td></td><td>0.23%</td><td>0.41%</td><td>0.64%</td><td></td><td>0.43%</td><td>0.77%</td><td>1.20%</td><td></td><td>0.62%</td><td>1.11%</td><td>1.73%</td></tr></table>"
       ],
       "metadata": {},
       "output_type": "pyout",
       "prompt_number": 314,
       "text": [
        "<IPython.core.display.HTML at 0x46fcc50>"
       ]
      }
     ],
     "prompt_number": 314
    },
    {
     "cell_type": "markdown",
     "metadata": {},
     "source": [
      "On remarque dans les r\u00e9sultats pr\u00e9c\u00e9dents que l'ajustement **ARREARS** est principalement control\u00e9 par le param\u00e8tre de volatilit\u00e9. La pente du smile a peu d'impact."
     ]
    },
    {
     "cell_type": "code",
     "collapsed": false,
     "input": [
      "display_results(cf)"
     ],
     "language": "python",
     "metadata": {},
     "outputs": [
      {
       "html": [
        "<table><tr><th colspan=2>Tenor</th><th></th><th colspan=3 style='text-align:center'>10Y</th><th></th><th colspan=3 style='text-align:center'>20Y</th><th></th><th colspan=3 style='text-align:center'>30Y</th></tr><tr><td colspan=14></td></tr><tr><td>Mod\u00e8le</td><td>m</td><td></td><td style='text-align:center'>15%</th><td style='text-align:center'>20%</th><td style='text-align:center'>25%</th><td></td><td style='text-align:center'>15%</th><td style='text-align:center'>20%</th><td style='text-align:center'>25%</th><td></td><td style='text-align:center'>15%</th><td style='text-align:center'>20%</th><td style='text-align:center'>25%</th></tr><tr><td colspan=14></td></tr><tr><td>log</td><td></td><td></td><td>-2.24%</td><td>-3.05%</td><td>-3.84%</td><td></td><td>-3.24%</td><td>-4.35%</td><td>-5.41%</td><td></td><td>-3.93%</td><td>-5.23%</td><td>-6.47%</td></tr><tr><td>normal</td><td></td><td></td><td>-0.00%</td><td>0.00%</td><td>0.00%</td><td></td><td>-0.00%</td><td>-0.00%</td><td>-0.00%</td><td></td><td>-0.00%</td><td>0.00%</td><td>0.00%</td></tr><tr><td></td></tr><tr><td rowspan=6>logdec</td><td>0.0002</td><td></td><td>-2.22%</td><td>-3.02%</td><td>-3.81%</td><td></td><td>-3.21%</td><td>-4.31%</td><td>-5.36%</td><td></td><td>-3.89%</td><td>-5.18%</td><td>-6.41%</td></tr><tr><td>0.0020</td><td></td><td>-2.04%</td><td>-2.78%</td><td>-3.50%</td><td></td><td>-2.95%</td><td>-3.97%</td><td>-4.95%</td><td></td><td>-3.58%</td><td>-4.78%</td><td>-5.93%</td></tr><tr><td>0.0200</td><td></td><td>-1.13%</td><td>-1.54%</td><td>-1.95%</td><td></td><td>-1.64%</td><td>-2.21%</td><td>-2.77%</td><td></td><td>-1.99%</td><td>-2.67%</td><td>-3.35%</td></tr><tr><td>0.2000</td><td></td><td>-0.21%</td><td>-0.28%</td><td>-0.36%</td><td></td><td>-0.30%</td><td>-0.40%</td><td>-0.51%</td><td></td><td>-0.36%</td><td>-0.49%</td><td>-0.62%</td></tr><tr><td>2.0000</td><td></td><td>-0.02%</td><td>-0.03%</td><td>-0.04%</td><td></td><td>-0.03%</td><td>-0.04%</td><td>-0.06%</td><td></td><td>-0.04%</td><td>-0.05%</td><td>-0.07%</td></tr><tr><td>20.0000</td><td></td><td>-0.00%</td><td>-0.00%</td><td>-0.00%</td><td></td><td>-0.00%</td><td>-0.00%</td><td>-0.01%</td><td></td><td>-0.00%</td><td>-0.01%</td><td>-0.01%</td></tr></table>"
       ],
       "metadata": {},
       "output_type": "pyout",
       "prompt_number": 315,
       "text": [
        "<IPython.core.display.HTML at 0x5110110>"
       ]
      }
     ],
     "prompt_number": 315
    },
    {
     "cell_type": "markdown",
     "metadata": {},
     "source": [
      "A l'inverse la valeur du swap Capped & Floored est control\u00e9 par la pente du smile. La volatit\u00e9 \u00e0 aussi un impact mais moindre."
     ]
    }
   ],
   "metadata": {}
  }
 ]
}