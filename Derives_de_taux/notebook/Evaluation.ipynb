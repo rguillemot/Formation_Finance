{
 "metadata": {
  "name": ""
 },
 "nbformat": 3,
 "nbformat_minor": 0,
 "worksheets": [
  {
   "cells": [
    {
     "cell_type": "heading",
     "level": 1,
     "metadata": {},
     "source": [
      "Evaluation - Valorisation Produits d\u00e9riv\u00e9s de taux"
     ]
    },
    {
     "cell_type": "heading",
     "level": 2,
     "metadata": {},
     "source": [
      "Valorisation du swap arrears"
     ]
    },
    {
     "cell_type": "markdown",
     "metadata": {},
     "source": [
      "Rappelons la formule du taux ** in ARREAR** que nous avons vu dans le cours:\n",
      "\n",
      "LIBOR **in ARREARS** $=\\mathbb{E}_t^{Q^{T_1}}[L(T_f,T_1,T_2)]$\n",
      "$=\\frac{L(t,T_1,T_2)+\\delta \\mathbb{E}_t^{Q^{T_2}}[L(T_f,T_1,T_2)^2]}{1+\\delta L(t,T_1,T_2)}$\n",
      "\n",
      "Pour all\u00e9ger les notations nous notons $L$ pour $L(t,T_1,T_2)$\n",
      "\n",
      "Maitenant noud devons seulement calculer $\\mathbb{E}_t^{Q^{T_2}}[L(T_f,T_1,T_2)^2]$ pour chacun des 3 mod\u00e8les et adapter la formule:\n",
      "\n",
      "* Mod\u00e8le lognormal: LIBOR **in ARREARS** $=L\\times \\frac{1+\\delta Le^{\\sigma_{ATM}^2(T_f-t)}}{1+\\delta L}$\n",
      "\n",
      "* Mod\u00e8le normal: LIBOR **in ARREARS** $=L\\times \\frac{1+\\delta L(1+\\sigma_{ATM}^2(T_f-t))}{1+\\delta L}$\n",
      "\n",
      "* Mod\u00e8le lognormal d\u00e9cal\u00e9: LIBOR **in ARREARS** $=\\frac{L+\\delta \\times (L^2e^{\\sigma_{SL}^2(T_f-t)}+2mL(1-e^{\\sigma_{SL}^2(T_f-t)})+m(1-e^{\\sigma_{SL}^2(T_f-t)})))}{1+\\delta L}$ avec $\\sigma_{SL}=\\frac{\\sigma_{ATM}L}{L+m}$\n",
      "\n",
      "Pour que le mod\u00e8le normal et lognormal d\u00e9cal\u00e9 soit coh\u00e9rent avec la volatilit\u00e9 de march\u00e9 \u00e0 la monnaie nous utilisons les approximations suivantes:\n",
      "\n",
      "* $\\sigma_N \\simeq \\sigma_{ATM} \\times L$\n",
      "* $\\sigma_{SL} \\simeq \\sigma_{ATM} \\times \\frac{L}{L+m}$"
     ]
    },
    {
     "cell_type": "heading",
     "level": 2,
     "metadata": {},
     "source": [
      "Valorisation du swap Capped & Floored"
     ]
    },
    {
     "cell_type": "markdown",
     "metadata": {},
     "source": [
      "LIBOR **Capped & Floored** $=\\mathbb{E}_t^{Q^{T_2}}[(L(T_f,T_1,T_2)-K)+(K_{MIN}-L(T_f,T_1,T_2))_+-(L(T_f,T_1,T_2)-K_{MAX})_+]$"
     ]
    },
    {
     "cell_type": "code",
     "collapsed": false,
     "input": [],
     "language": "python",
     "metadata": {},
     "outputs": []
    }
   ],
   "metadata": {}
  }
 ]
}