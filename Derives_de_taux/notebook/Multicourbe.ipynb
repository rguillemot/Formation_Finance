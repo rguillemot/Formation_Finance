{
 "metadata": {
  "name": ""
 },
 "nbformat": 3,
 "nbformat_minor": 0,
 "worksheets": [
  {
   "cells": [
    {
     "cell_type": "code",
     "collapsed": false,
     "input": [
      "latex = ''\n",
      "latex += '\\\\begin{tabular}{|c|c|c|} \\\\\\\\ \\n'\n",
      "latex += '\\\\hline \\\\\\\\ \\n'\n",
      "latex += 'OIS-BOR & $F$ & Ajustement \\\\\\\\ \\n'\n",
      "latex += '\\\\hline \\\\\\\\ \\n'\n",
      "for m in [0.000,0.001,0.002,0.003,0.004,0.005]:\n",
      "    R1=0.01\n",
      "    R2=0.015\n",
      "    delta1=0.5\n",
      "    delta2=0.5\n",
      "    L = ((1.0+(delta1+delta2)*R2)/(1.0+delta1*R1)-1)/delta2\n",
      "    F = (delta1+delta2)/delta2*R2-R1*delta1/delta2*(1.0+(delta1+delta2)*(R2-m))/(1+delta1*(R1-m))\n",
      "    latex += '%1.0f'%((m)*10000) +' bps & ' + '%1.4f'%(F*100) + '\\%&' + '%1.2f'%((F-L)*10000) + 'bps\\\\\\\\ \\n'\n",
      "latex += '\\\\hline \\\\\\\\ \\n'\n",
      "latex += '\\\\end{tabular}'\n",
      "\n",
      "print L\n",
      "print latex"
     ],
     "language": "python",
     "metadata": {},
     "outputs": [
      {
       "output_type": "stream",
       "stream": "stdout",
       "text": [
        "0.0199004975124\n",
        "\\begin{tabular}{|c|c|c|} \\\\ \n",
        "\\hline \\\\ \n",
        "OIS-BOR & $F$ & Ajustement \\\\ \n",
        "\\hline \\\\ \n",
        "0 bps & 1.9900\\%&0.00bps\\\\ \n",
        "10 bps & 1.9905\\%&0.05bps\\\\ \n",
        "20 bps & 1.9910\\%&0.10bps\\\\ \n",
        "30 bps & 1.9915\\%&0.15bps\\\\ \n",
        "40 bps & 1.9920\\%&0.20bps\\\\ \n",
        "50 bps & 1.9925\\%&0.25bps\\\\ \n",
        "\\hline \\\\ \n",
        "\\end{tabular}\n"
       ]
      }
     ],
     "prompt_number": 1
    },
    {
     "cell_type": "code",
     "collapsed": false,
     "input": [
      "m=0.005\n",
      "F = (delta1+delta2)/delta2*R2-R1*delta1/delta2*(1.0+(delta1+delta2)*(R2-m))/(1.0+delta1*(R1-m))\n",
      "L=((1.0+(delta1+delta2)*R2)/(1.0+delta1*R1)-1.0)/delta2\n",
      "LOIS=((1.0+(delta1+delta2)*(R2-m))/(1.0+delta1*(R1-m))-1.0)/delta2\n",
      "\n",
      "F2 = LOIS + m*((delta1+delta2)/delta2-delta1/delta2*(1.0+(delta1+delta2)*(R2-m))/(1.0+delta1*(R1-m)))\n",
      "F3 = LOIS + m*(1-delta1*LOIS)\n",
      "F4 = L + m*delta1*R1/(1+delta1*R1)-m*delta1*LOIS\n",
      "(LOIS+m/(1.0+delta1*(R1-m)),L)"
     ],
     "language": "python",
     "metadata": {},
     "outputs": [
      {
       "metadata": {},
       "output_type": "pyout",
       "prompt_number": 17,
       "text": [
        "(0.01995012468827948, 0.01990049751243772)"
       ]
      }
     ],
     "prompt_number": 17
    },
    {
     "cell_type": "code",
     "collapsed": false,
     "input": [
      "latex = ''\n",
      "latex += '\\\\begin{tabular}{|c|c|c|c|} \\\\\\\\ \\n'\n",
      "latex += '\\\\hline \\\\\\\\ \\n'\n",
      "latex += '$R_2$ & BOR-OIS & $F$ & Ajustement \\\\\\\\ \\n'\n",
      "latex += '\\\\hline \\\\\\\\ \\n'\n",
      "for R2 in [0.01,0.011,0.012,0.013,0.014,0.015]:\n",
      "    m=0.0050\n",
      "    R1=0.01\n",
      "    R2=0.01\n",
      "    delta1=0.5\n",
      "    delta2=0.5\n",
      "    L = ((1.0+(delta1+delta2)*R2)/(1.0+delta1*R1)-1)/delta2\n",
      "    F = (delta1+delta2)/delta2*R2-R1*delta1/delta2*(1.0+(delta1+delta2)*(R2-m))/(1+delta1*(R1-m))\n",
      "    latex += '%1.0f'%((m)*10000) +' bps & ' + '%1.4f'%(F*100) + '\\%&' + '%1.2f'%((F-L)*10000) + 'bps\\\\\\\\ \\n'\n",
      "latex += '\\\\hline \\\\\\\\ \\n'\n",
      "latex += '\\\\end{tabular}'\n",
      "\n",
      "print L\n",
      "print latex"
     ],
     "language": "python",
     "metadata": {},
     "outputs": [
      {
       "output_type": "stream",
       "stream": "stdout",
       "text": [
        "0.00995024875622\n",
        "\\begin{tabular}{|c|c|c|c|} \\\\ \n",
        "\\hline \\\\ \n",
        "$R_2$ & BOR-OIS & $F$ & Ajustement \\\\ \n",
        "\\hline \\\\ \n",
        "50 bps & 0.9975\\%&0.25bps\\\\ \n",
        "50 bps & 0.9975\\%&0.25bps\\\\ \n",
        "50 bps & 0.9975\\%&0.25bps\\\\ \n",
        "50 bps & 0.9975\\%&0.25bps\\\\ \n",
        "50 bps & 0.9975\\%&0.25bps\\\\ \n",
        "50 bps & 0.9975\\%&0.25bps\\\\ \n",
        "\\hline \\\\ \n",
        "\\end{tabular}\n"
       ]
      }
     ],
     "prompt_number": 27
    },
    {
     "cell_type": "code",
     "collapsed": false,
     "input": [
      "def fixedleg(N,K,q,R,ROIS):\n",
      "    return sum([1.0/(1.0+R/q)**((t+1)*q) for t in range(N)])*K\n",
      "def varleg(N,q,R,ROIS):\n",
      "    return sum([1.0/(1.0+ROIS/q)**(1.0+t)*R*1.0/q for t in range(N*q)])\n",
      "def swap(N,K,q,R,ROIS,cp,Not):\n",
      "    return cp*(fixedleg(N,K,q,R,ROIS)-varleg(N,q,R,ROIS))*Not\n",
      "def sensi_swap(N,K,q,R,ROIS,cp,Not):\n",
      "    return swap(N,K,q,R,ROIS,cp,Not)-swap(N,K,q,R-0.0001,ROIS-0.0001,cp,Not)\n",
      "def cvx_swap(N,K,q,R,ROIS,cp,Not):\n",
      "    return swap(N,K,q,R+0.0001,ROIS+0.0001,cp,Not)+swap(N,K,q,R-0.0001,ROIS-0.0001,cp,Not)-2.0*swap(N,K,q,R,ROIS,cp,Not)"
     ],
     "language": "python",
     "metadata": {},
     "outputs": [],
     "prompt_number": 107
    },
    {
     "cell_type": "code",
     "collapsed": false,
     "input": [
      "R = 0.02\n",
      "ROIS = 0.015\n",
      "N = 20\n",
      "q = 2\n",
      "cp = 1\n",
      "Not = 100000000\n",
      "K=varleg(N,q,R,ROIS)/fixedleg(N,1,q,R,ROIS)"
     ],
     "language": "python",
     "metadata": {},
     "outputs": [],
     "prompt_number": 93
    },
    {
     "cell_type": "code",
     "collapsed": false,
     "input": [
      "latex = ''\n",
      "\n",
      "latex += '\\\\begin{tabular}{|c|c|c|c|}\\n'\n",
      "latex += '\\\\hline\\n'\n",
      "latex += '&&PV (Mios EUR)&Sensi (kEUR)& Convexit\u00e9 (EUR)  \\\\\\\\ \\n'\n",
      "latex += '\\hline\\n'\n",
      "latex += 'Swap Collat\u00e9ralis\u00e9 & ' + '%1.0f'%(swap(N,K,q,R,ROIS,cp,Not)/1e6) + '&' + '%1.2f'%(sensi_swap(N,K,q,R,ROIS,cp,Not)/1e3) + '&' + '%1.2f'%(cvx_swap(N,K,q,R,ROIS,cp,Not)) + '\\\\ \\n' \n",
      "latex += '\\hline\\n'\n",
      "latex += 'Swap Non Collat\u00e9ralis\u00e9 & ' + '%1.0f'%(swap(N,K,q,R,R,cp,Not)/1e6) + '&' + '%1.2f'%(sensi_swap(N,K,q,R,R,cp,Not)/1e3) + '&' + '%1.2f'%(cvx_swap(N,K,q,R,R,cp,Not)) + '\\\\ \\n'\n",
      "latex += '\\hline\\n'\n",
      "latex += '\\\\end{tabular}\\n'\n",
      "\n",
      "print latex"
     ],
     "language": "python",
     "metadata": {},
     "outputs": [
      {
       "output_type": "stream",
       "stream": "stdout",
       "text": [
        "\\begin{tabular}{|c|c|c|c|}\n",
        "\\hline\n",
        "&&PV (Mios EUR)&Sensi (kEUR)& Convexit\u00e9 (EUR)  \\\\ \n",
        "\\hline\n",
        "Swap Collat\u00e9ralis\u00e9 & 0&-172.62&333.77\\ \n",
        "\\hline\n",
        "Swap Non Collat\u00e9ralis\u00e9 & 2&-166.72&315.45\\ \n",
        "\\hline\n",
        "\\end{tabular}\n",
        "\n"
       ]
      }
     ],
     "prompt_number": 108
    },
    {
     "cell_type": "code",
     "collapsed": false,
     "input": [
      "315-166.0/172*333"
     ],
     "language": "python",
     "metadata": {},
     "outputs": [
      {
       "metadata": {},
       "output_type": "pyout",
       "prompt_number": 113,
       "text": [
        "-6.383720930232585"
       ]
      }
     ],
     "prompt_number": 113
    },
    {
     "cell_type": "code",
     "collapsed": false,
     "input": [
      "6*10000/2"
     ],
     "language": "python",
     "metadata": {},
     "outputs": [
      {
       "metadata": {},
       "output_type": "pyout",
       "prompt_number": 114,
       "text": [
        "30000"
       ]
      }
     ],
     "prompt_number": 114
    }
   ],
   "metadata": {}
  }
 ]
}