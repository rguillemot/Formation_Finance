{
 "metadata": {
  "name": "",
  "signature": "sha256:15d70131af509e7c6c7b0d5038f6d8e7c48bb9bca3c5f11b2a7037c709217379"
 },
 "nbformat": 3,
 "nbformat_minor": 0,
 "worksheets": [
  {
   "cells": [
    {
     "cell_type": "code",
     "collapsed": false,
     "input": [
      "%matplotlib inline"
     ],
     "language": "python",
     "metadata": {},
     "outputs": [],
     "prompt_number": 5
    },
    {
     "cell_type": "code",
     "collapsed": false,
     "input": [
      "from matplotlib import rc\n",
      "rc('font',**{'family':'sans-serif','sans-serif':['Helvetica']})\n",
      "## for Palatino and other serif fonts use:\n",
      "#rc('font',**{'family':'serif','serif':['Palatino']})\n",
      "rc('text', usetex=True)"
     ],
     "language": "python",
     "metadata": {},
     "outputs": [],
     "prompt_number": 2
    },
    {
     "cell_type": "code",
     "collapsed": false,
     "input": [
      "import numpy as np\n",
      "import matplotlib.pyplot as plt\n",
      "\n",
      "def plotFlow(ax,t,value,color):\n",
      "    ax.arrow(t,0,0,value,color=color,head_width=0.2, head_length=0.2,linewidth=2.5)\n",
      "    \n",
      "\n",
      "\n",
      "fig, [ax1,ax2] = plt.subplots(figsize=(12,6),nrows=1,ncols=2)\n",
      "\n",
      "\n",
      "def graph(ax,label1,label2,title):\n",
      "    ax.set_xlim([-0.8,3])\n",
      "    ax.set_ylim([-1.7,1.7])\n",
      "\n",
      "    ax.axis('off')\n",
      "\n",
      "\n",
      "    ax.arrow(-0.5,0,3,0,color='black',head_width=0.2, head_length=0.1,linewidth=0.1)\n",
      "\n",
      "    plotFlow(ax,0,-1,'black')\n",
      "    plotFlow(ax,2,1.2,'black')\n",
      "\n",
      "    ax.annotate(title, xy=(0,0),  xycoords='data', size=20,\n",
      "                    xytext=(10, 150), textcoords='offset points'\n",
      "                    )\n",
      "    \n",
      "    ax.annotate(label1, xy=(0,0),  xycoords='data', size=20,\n",
      "                    xytext=(10, -50), textcoords='offset points'\n",
      "                    )\n",
      "\n",
      "    ax.annotate(label2, xy=(2,0),  xycoords='data', size=20,\n",
      "                    xytext=(10, 50), textcoords='offset points'\n",
      "                    )\n",
      "    \n",
      "graph(ax1,'$100$','$100 * C$','Capitalisation')\n",
      "graph(ax2,'$100 * A$','$100$','Actualisation')\n",
      "\n",
      "plt.savefig('../figures/capi_actu.png', bbox_inches='tight')"
     ],
     "language": "python",
     "metadata": {},
     "outputs": [
      {
       "metadata": {},
       "output_type": "display_data",
       "png": "[encoded data removed]",
       "text": [
        "<matplotlib.figure.Figure at 0xb10e6b0>"
       ]
      }
     ],
     "prompt_number": 42
    }
   ],
   "metadata": {}
  }
 ]
}